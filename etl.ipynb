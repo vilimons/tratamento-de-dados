{
  "cells": [
    {
      "cell_type": "markdown",
      "metadata": {
        "id": "8Q7ppRhgy3ZW"
      },
      "source": [
        "## Instalação de pacotes\n",
        "\n",
        "\n",
        "\n",
        "\n"
      ]
    },
    {
      "cell_type": "code",
      "execution_count": null,
      "metadata": {
        "colab": {
          "base_uri": "https://localhost:8080/"
        },
        "id": "mL2yVDahyecb",
        "outputId": "7da7cf48-d002-43ee-c47f-4bd2da1df613"
      },
      "outputs": [
        {
          "name": "stdout",
          "output_type": "stream",
          "text": [
            "Looking in indexes: https://pypi.org/simple, https://us-python.pkg.dev/colab-wheels/public/simple/\n",
            "Requirement already satisfied: pymongo in /usr/local/lib/python3.8/dist-packages (4.3.3)\n",
            "Requirement already satisfied: dnspython<3.0.0,>=1.16.0 in /usr/local/lib/python3.8/dist-packages (from pymongo) (2.2.1)\n",
            "Looking in indexes: https://pypi.org/simple, https://us-python.pkg.dev/colab-wheels/public/simple/\n",
            "Requirement already satisfied: pyspark in /usr/local/lib/python3.8/dist-packages (3.3.1)\n",
            "Requirement already satisfied: py4j==0.10.9.5 in /usr/local/lib/python3.8/dist-packages (from pyspark) (0.10.9.5)\n",
            "Looking in indexes: https://pypi.org/simple, https://us-python.pkg.dev/colab-wheels/public/simple/\n",
            "Requirement already satisfied: pandera in /usr/local/lib/python3.8/dist-packages (0.13.4)\n",
            "Requirement already satisfied: pandas>=1.2.0 in /usr/local/lib/python3.8/dist-packages (from pandera) (1.3.5)\n",
            "Requirement already satisfied: wrapt in /usr/local/lib/python3.8/dist-packages (from pandera) (1.14.1)\n",
            "Requirement already satisfied: numpy>=1.19.0 in /usr/local/lib/python3.8/dist-packages (from pandera) (1.21.6)\n",
            "Requirement already satisfied: typing-inspect>=0.6.0 in /usr/local/lib/python3.8/dist-packages (from pandera) (0.8.0)\n",
            "Requirement already satisfied: packaging>=20.0 in /usr/local/lib/python3.8/dist-packages (from pandera) (21.3)\n",
            "Requirement already satisfied: pydantic in /usr/local/lib/python3.8/dist-packages (from pandera) (1.10.2)\n",
            "Requirement already satisfied: pyparsing!=3.0.5,>=2.0.2 in /usr/local/lib/python3.8/dist-packages (from packaging>=20.0->pandera) (3.0.9)\n",
            "Requirement already satisfied: python-dateutil>=2.7.3 in /usr/local/lib/python3.8/dist-packages (from pandas>=1.2.0->pandera) (2.8.2)\n",
            "Requirement already satisfied: pytz>=2017.3 in /usr/local/lib/python3.8/dist-packages (from pandas>=1.2.0->pandera) (2022.6)\n",
            "Requirement already satisfied: six>=1.5 in /usr/local/lib/python3.8/dist-packages (from python-dateutil>=2.7.3->pandas>=1.2.0->pandera) (1.15.0)\n",
            "Requirement already satisfied: mypy-extensions>=0.3.0 in /usr/local/lib/python3.8/dist-packages (from typing-inspect>=0.6.0->pandera) (0.4.3)\n",
            "Requirement already satisfied: typing-extensions>=3.7.4 in /usr/local/lib/python3.8/dist-packages (from typing-inspect>=0.6.0->pandera) (4.4.0)\n"
          ]
        }
      ],
      "source": [
        "!pip install pymongo\n",
        "!pip install pyspark\n",
        "!pip install pandera"
      ]
    },
    {
      "cell_type": "markdown",
      "metadata": {
        "id": "L4ONfr3SzWhl"
      },
      "source": [
        "## Importação das Bibliotecas"
      ]
    },
    {
      "cell_type": "code",
      "execution_count": null,
      "metadata": {
        "id": "QSRFOgF7zVM2"
      },
      "outputs": [],
      "source": [
        "import pandas as pd\n",
        "import numpy as np\n",
        "import pymongo\n",
        "import pyspark.sql.functions as f\n",
        "from pymongo import MongoClient\n",
        "from pyspark.sql import SparkSession\n",
        "from pyspark.sql.types import *\n",
        "import pandera as pa\n",
        "from datetime import datetime"
      ]
    },
    {
      "cell_type": "markdown",
      "metadata": {
        "id": "GDWMxEswzol8"
      },
      "source": [
        "## Extração do dataset"
      ]
    },
    {
      "cell_type": "code",
      "execution_count": null,
      "metadata": {
        "id": "hikCqAjTzoLM"
      },
      "outputs": [],
      "source": [
        "df1 = pd.read_csv('https://storage.googleapis.com/projeto-leonardo-vitor/D.SDA.PDA.005.CAT.202201%20-%20D.SDA.PDA.005.CAT.202201(origi).csv',sep=';')"
      ]
    },
    {
      "cell_type": "markdown",
      "metadata": {
        "id": "oMl1wy1ez_-L"
      },
      "source": [
        "## Configuração do pandas para vizualizar todas as linhas e colunas"
      ]
    },
    {
      "cell_type": "code",
      "execution_count": null,
      "metadata": {
        "id": "bjE5dfi9z-9z"
      },
      "outputs": [],
      "source": [
        "pd.set_option('display.max_columns', None)\n",
        "pd.set_option('display.max_rows', None)"
      ]
    },
    {
      "cell_type": "markdown",
      "metadata": {
        "id": "xahuyto90YAM"
      },
      "source": [
        "## Conexão com o mongoDB"
      ]
    },
    {
      "cell_type": "code",
      "execution_count": null,
      "metadata": {
        "id": "nbCj5m3f0XI8"
      },
      "outputs": [],
      "source": [
        "uri = \"mongodb+srv://cluster0.znsuw4p.mongodb.net/?authSource=%24external&authMechanism=MONGODB-X509&retryWrites=true&w=majority\"\n",
        "client = MongoClient(uri,tls=True,tlsCertificateKeyFile='/content/X509-cert-8832947067617257787.pem')"
      ]
    },
    {
      "cell_type": "markdown",
      "metadata": {
        "id": "tQSGR05m1Tge"
      },
      "source": [
        "## Configuração do Spark"
      ]
    },
    {
      "cell_type": "code",
      "execution_count": null,
      "metadata": {
        "id": "7LhU78oj1RHU"
      },
      "outputs": [],
      "source": [
        "spark = (\n",
        "    SparkSession.builder\n",
        "                .master('local')\n",
        "                .appName('etl-soulcode')\n",
        "                .config('spark.ui.port', '4050')\n",
        "                .config('spark.jars', 'https://storage.googleapis.com/hadoop-lib/gcs/gcs-connector-hadoop2-2.1.1.jar')\n",
        "                .getOrCreate()\n",
        ")"
      ]
    },
    {
      "cell_type": "markdown",
      "metadata": {
        "id": "yIh3In7S29Rf"
      },
      "source": [
        "## Visualizando a SparkSession"
      ]
    },
    {
      "cell_type": "code",
      "execution_count": null,
      "metadata": {
        "colab": {
          "base_uri": "https://localhost:8080/",
          "height": 219
        },
        "id": "1c4vdeQP21Se",
        "outputId": "5b5728e3-dbfa-45d2-c976-fa440fc8e0a6"
      },
      "outputs": [
        {
          "data": {
            "text/html": [
              "\n",
              "            <div>\n",
              "                <p><b>SparkSession - in-memory</b></p>\n",
              "                \n",
              "        <div>\n",
              "            <p><b>SparkContext</b></p>\n",
              "\n",
              "            <p><a href=\"http://localhost:4050\">Spark UI</a></p>\n",
              "\n",
              "            <dl>\n",
              "              <dt>Version</dt>\n",
              "                <dd><code>v3.3.1</code></dd>\n",
              "              <dt>Master</dt>\n",
              "                <dd><code>local</code></dd>\n",
              "              <dt>AppName</dt>\n",
              "                <dd><code>etl-soulcode</code></dd>\n",
              "            </dl>\n",
              "        </div>\n",
              "        \n",
              "            </div>\n",
              "        "
            ],
            "text/plain": [
              "<pyspark.sql.session.SparkSession at 0x7f37628c4280>"
            ]
          },
          "execution_count": 104,
          "metadata": {},
          "output_type": "execute_result"
        }
      ],
      "source": [
        "spark"
      ]
    },
    {
      "cell_type": "markdown",
      "metadata": {
        "id": "3503qUX-3T_N"
      },
      "source": [
        "## Criação do banco de dados e das coleções no mongoDB"
      ]
    },
    {
      "cell_type": "code",
      "execution_count": null,
      "metadata": {
        "id": "0NvA8EUY3NvE"
      },
      "outputs": [],
      "source": [
        "db = client['db-soulcode']\n",
        "collection1 = db['dataframe_orig1']\n"
      ]
    },
    {
      "cell_type": "markdown",
      "metadata": {
        "id": "Kq6K4q6D3pjs"
      },
      "source": [
        "## Enviando os datasets pro mongoDB"
      ]
    },
    {
      "cell_type": "code",
      "execution_count": null,
      "metadata": {
        "id": "M9iEWoh03iod"
      },
      "outputs": [],
      "source": [
        "# Subindo primeiro dataset pro mongoDB\n",
        "df1.reset_index(inplace=True)\n",
        "df1_dict = df1.to_dict(\"records\")\n",
        "collection1.insert_many(df1_dict)"
      ]
    },
    {
      "cell_type": "code",
      "execution_count": null,
      "metadata": {
        "colab": {
          "base_uri": "https://localhost:8080/"
        },
        "id": "uqXjpFRd5EMG",
        "outputId": "63cd29b7-d625-4fcf-de32-1e9e0bde5bd8"
      },
      "outputs": [
        {
          "data": {
            "text/plain": [
              "304280"
            ]
          },
          "execution_count": 107,
          "metadata": {},
          "output_type": "execute_result"
        }
      ],
      "source": [
        "# Contagem dos documentos\n",
        "collection1.count_documents({})"
      ]
    },
    {
      "cell_type": "code",
      "execution_count": null,
      "metadata": {
        "colab": {
          "base_uri": "https://localhost:8080/",
          "height": 328
        },
        "id": "GIFM08dk5daU",
        "outputId": "996e33dc-1656-40bf-cd5d-93cd2e7d8f40"
      },
      "outputs": [
        {
          "ename": "KeyboardInterrupt",
          "evalue": "ignored",
          "output_type": "error",
          "traceback": [
            "\u001b[0;31m---------------------------------------------------------------------------\u001b[0m",
            "\u001b[0;31mKeyboardInterrupt\u001b[0m                         Traceback (most recent call last)",
            "\u001b[0;32m<ipython-input-108-ec0018ee3d34>\u001b[0m in \u001b[0;36m<module>\u001b[0;34m\u001b[0m\n\u001b[1;32m      1\u001b[0m \u001b[0mcursor1\u001b[0m \u001b[0;34m=\u001b[0m \u001b[0mcollection1\u001b[0m\u001b[0;34m.\u001b[0m\u001b[0mfind\u001b[0m\u001b[0;34m(\u001b[0m\u001b[0;34m{\u001b[0m\u001b[0;34m}\u001b[0m\u001b[0;34m)\u001b[0m\u001b[0;34m\u001b[0m\u001b[0;34m\u001b[0m\u001b[0m\n\u001b[0;32m----> 2\u001b[0;31m \u001b[0mdf1\u001b[0m \u001b[0;34m=\u001b[0m \u001b[0mpd\u001b[0m\u001b[0;34m.\u001b[0m\u001b[0mDataFrame\u001b[0m\u001b[0;34m(\u001b[0m\u001b[0mlist\u001b[0m\u001b[0;34m(\u001b[0m\u001b[0mcursor1\u001b[0m\u001b[0;34m)\u001b[0m\u001b[0;34m)\u001b[0m\u001b[0;34m\u001b[0m\u001b[0;34m\u001b[0m\u001b[0m\n\u001b[0m",
            "\u001b[0;32m/usr/local/lib/python3.8/dist-packages/pymongo/cursor.py\u001b[0m in \u001b[0;36mnext\u001b[0;34m(self)\u001b[0m\n\u001b[1;32m   1246\u001b[0m         \u001b[0;32mif\u001b[0m \u001b[0mself\u001b[0m\u001b[0;34m.\u001b[0m\u001b[0m__empty\u001b[0m\u001b[0;34m:\u001b[0m\u001b[0;34m\u001b[0m\u001b[0;34m\u001b[0m\u001b[0m\n\u001b[1;32m   1247\u001b[0m             \u001b[0;32mraise\u001b[0m \u001b[0mStopIteration\u001b[0m\u001b[0;34m\u001b[0m\u001b[0;34m\u001b[0m\u001b[0m\n\u001b[0;32m-> 1248\u001b[0;31m         \u001b[0;32mif\u001b[0m \u001b[0mlen\u001b[0m\u001b[0;34m(\u001b[0m\u001b[0mself\u001b[0m\u001b[0;34m.\u001b[0m\u001b[0m__data\u001b[0m\u001b[0;34m)\u001b[0m \u001b[0;32mor\u001b[0m \u001b[0mself\u001b[0m\u001b[0;34m.\u001b[0m\u001b[0m_refresh\u001b[0m\u001b[0;34m(\u001b[0m\u001b[0;34m)\u001b[0m\u001b[0;34m:\u001b[0m\u001b[0;34m\u001b[0m\u001b[0;34m\u001b[0m\u001b[0m\n\u001b[0m\u001b[1;32m   1249\u001b[0m             \u001b[0;32mreturn\u001b[0m \u001b[0mself\u001b[0m\u001b[0;34m.\u001b[0m\u001b[0m__data\u001b[0m\u001b[0;34m.\u001b[0m\u001b[0mpopleft\u001b[0m\u001b[0;34m(\u001b[0m\u001b[0;34m)\u001b[0m\u001b[0;34m\u001b[0m\u001b[0;34m\u001b[0m\u001b[0m\n\u001b[1;32m   1250\u001b[0m         \u001b[0;32melse\u001b[0m\u001b[0;34m:\u001b[0m\u001b[0;34m\u001b[0m\u001b[0;34m\u001b[0m\u001b[0m\n",
            "\u001b[0;32m/usr/local/lib/python3.8/dist-packages/pymongo/cursor.py\u001b[0m in \u001b[0;36m_refresh\u001b[0;34m(self)\u001b[0m\n\u001b[1;32m   1186\u001b[0m                 \u001b[0mself\u001b[0m\u001b[0;34m.\u001b[0m\u001b[0m__comment\u001b[0m\u001b[0;34m,\u001b[0m\u001b[0;34m\u001b[0m\u001b[0;34m\u001b[0m\u001b[0m\n\u001b[1;32m   1187\u001b[0m             )\n\u001b[0;32m-> 1188\u001b[0;31m             \u001b[0mself\u001b[0m\u001b[0;34m.\u001b[0m\u001b[0m__send_message\u001b[0m\u001b[0;34m(\u001b[0m\u001b[0mg\u001b[0m\u001b[0;34m)\u001b[0m\u001b[0;34m\u001b[0m\u001b[0;34m\u001b[0m\u001b[0m\n\u001b[0m\u001b[1;32m   1189\u001b[0m \u001b[0;34m\u001b[0m\u001b[0m\n\u001b[1;32m   1190\u001b[0m         \u001b[0;32mreturn\u001b[0m \u001b[0mlen\u001b[0m\u001b[0;34m(\u001b[0m\u001b[0mself\u001b[0m\u001b[0;34m.\u001b[0m\u001b[0m__data\u001b[0m\u001b[0;34m)\u001b[0m\u001b[0;34m\u001b[0m\u001b[0;34m\u001b[0m\u001b[0m\n",
            "\u001b[0;32m/usr/local/lib/python3.8/dist-packages/pymongo/cursor.py\u001b[0m in \u001b[0;36m__send_message\u001b[0;34m(self, operation)\u001b[0m\n\u001b[1;32m   1050\u001b[0m \u001b[0;34m\u001b[0m\u001b[0m\n\u001b[1;32m   1051\u001b[0m         \u001b[0;32mtry\u001b[0m\u001b[0;34m:\u001b[0m\u001b[0;34m\u001b[0m\u001b[0;34m\u001b[0m\u001b[0m\n\u001b[0;32m-> 1052\u001b[0;31m             response = client._run_operation(\n\u001b[0m\u001b[1;32m   1053\u001b[0m                 \u001b[0moperation\u001b[0m\u001b[0;34m,\u001b[0m \u001b[0mself\u001b[0m\u001b[0;34m.\u001b[0m\u001b[0m_unpack_response\u001b[0m\u001b[0;34m,\u001b[0m \u001b[0maddress\u001b[0m\u001b[0;34m=\u001b[0m\u001b[0mself\u001b[0m\u001b[0;34m.\u001b[0m\u001b[0m__address\u001b[0m\u001b[0;34m\u001b[0m\u001b[0;34m\u001b[0m\u001b[0m\n\u001b[1;32m   1054\u001b[0m             )\n",
            "\u001b[0;32m/usr/local/lib/python3.8/dist-packages/pymongo/_csot.py\u001b[0m in \u001b[0;36mcsot_wrapper\u001b[0;34m(self, *args, **kwargs)\u001b[0m\n\u001b[1;32m    103\u001b[0m                 \u001b[0;32mwith\u001b[0m \u001b[0m_TimeoutContext\u001b[0m\u001b[0;34m(\u001b[0m\u001b[0mtimeout\u001b[0m\u001b[0;34m)\u001b[0m\u001b[0;34m:\u001b[0m\u001b[0;34m\u001b[0m\u001b[0;34m\u001b[0m\u001b[0m\n\u001b[1;32m    104\u001b[0m                     \u001b[0;32mreturn\u001b[0m \u001b[0mfunc\u001b[0m\u001b[0;34m(\u001b[0m\u001b[0mself\u001b[0m\u001b[0;34m,\u001b[0m \u001b[0;34m*\u001b[0m\u001b[0margs\u001b[0m\u001b[0;34m,\u001b[0m \u001b[0;34m**\u001b[0m\u001b[0mkwargs\u001b[0m\u001b[0;34m)\u001b[0m\u001b[0;34m\u001b[0m\u001b[0;34m\u001b[0m\u001b[0m\n\u001b[0;32m--> 105\u001b[0;31m         \u001b[0;32mreturn\u001b[0m \u001b[0mfunc\u001b[0m\u001b[0;34m(\u001b[0m\u001b[0mself\u001b[0m\u001b[0;34m,\u001b[0m \u001b[0;34m*\u001b[0m\u001b[0margs\u001b[0m\u001b[0;34m,\u001b[0m \u001b[0;34m**\u001b[0m\u001b[0mkwargs\u001b[0m\u001b[0;34m)\u001b[0m\u001b[0;34m\u001b[0m\u001b[0;34m\u001b[0m\u001b[0m\n\u001b[0m\u001b[1;32m    106\u001b[0m \u001b[0;34m\u001b[0m\u001b[0m\n\u001b[1;32m    107\u001b[0m     \u001b[0;32mreturn\u001b[0m \u001b[0mcast\u001b[0m\u001b[0;34m(\u001b[0m\u001b[0mF\u001b[0m\u001b[0;34m,\u001b[0m \u001b[0mcsot_wrapper\u001b[0m\u001b[0;34m)\u001b[0m\u001b[0;34m\u001b[0m\u001b[0;34m\u001b[0m\u001b[0m\n",
            "\u001b[0;32m/usr/local/lib/python3.8/dist-packages/pymongo/mongo_client.py\u001b[0m in \u001b[0;36m_run_operation\u001b[0;34m(self, operation, unpack_res, address)\u001b[0m\n\u001b[1;32m   1328\u001b[0m             )\n\u001b[1;32m   1329\u001b[0m \u001b[0;34m\u001b[0m\u001b[0m\n\u001b[0;32m-> 1330\u001b[0;31m         return self._retryable_read(\n\u001b[0m\u001b[1;32m   1331\u001b[0m             \u001b[0m_cmd\u001b[0m\u001b[0;34m,\u001b[0m\u001b[0;34m\u001b[0m\u001b[0;34m\u001b[0m\u001b[0m\n\u001b[1;32m   1332\u001b[0m             \u001b[0moperation\u001b[0m\u001b[0;34m.\u001b[0m\u001b[0mread_preference\u001b[0m\u001b[0;34m,\u001b[0m\u001b[0;34m\u001b[0m\u001b[0;34m\u001b[0m\u001b[0m\n",
            "\u001b[0;32m/usr/local/lib/python3.8/dist-packages/pymongo/_csot.py\u001b[0m in \u001b[0;36mcsot_wrapper\u001b[0;34m(self, *args, **kwargs)\u001b[0m\n\u001b[1;32m    103\u001b[0m                 \u001b[0;32mwith\u001b[0m \u001b[0m_TimeoutContext\u001b[0m\u001b[0;34m(\u001b[0m\u001b[0mtimeout\u001b[0m\u001b[0;34m)\u001b[0m\u001b[0;34m:\u001b[0m\u001b[0;34m\u001b[0m\u001b[0;34m\u001b[0m\u001b[0m\n\u001b[1;32m    104\u001b[0m                     \u001b[0;32mreturn\u001b[0m \u001b[0mfunc\u001b[0m\u001b[0;34m(\u001b[0m\u001b[0mself\u001b[0m\u001b[0;34m,\u001b[0m \u001b[0;34m*\u001b[0m\u001b[0margs\u001b[0m\u001b[0;34m,\u001b[0m \u001b[0;34m**\u001b[0m\u001b[0mkwargs\u001b[0m\u001b[0;34m)\u001b[0m\u001b[0;34m\u001b[0m\u001b[0;34m\u001b[0m\u001b[0m\n\u001b[0;32m--> 105\u001b[0;31m         \u001b[0;32mreturn\u001b[0m \u001b[0mfunc\u001b[0m\u001b[0;34m(\u001b[0m\u001b[0mself\u001b[0m\u001b[0;34m,\u001b[0m \u001b[0;34m*\u001b[0m\u001b[0margs\u001b[0m\u001b[0;34m,\u001b[0m \u001b[0;34m**\u001b[0m\u001b[0mkwargs\u001b[0m\u001b[0;34m)\u001b[0m\u001b[0;34m\u001b[0m\u001b[0;34m\u001b[0m\u001b[0m\n\u001b[0m\u001b[1;32m    106\u001b[0m \u001b[0;34m\u001b[0m\u001b[0m\n\u001b[1;32m    107\u001b[0m     \u001b[0;32mreturn\u001b[0m \u001b[0mcast\u001b[0m\u001b[0;34m(\u001b[0m\u001b[0mF\u001b[0m\u001b[0;34m,\u001b[0m \u001b[0mcsot_wrapper\u001b[0m\u001b[0;34m)\u001b[0m\u001b[0;34m\u001b[0m\u001b[0;34m\u001b[0m\u001b[0m\n",
            "\u001b[0;32m/usr/local/lib/python3.8/dist-packages/pymongo/mongo_client.py\u001b[0m in \u001b[0;36m_retryable_read\u001b[0;34m(self, func, read_pref, session, address, retryable)\u001b[0m\n\u001b[1;32m   1446\u001b[0m                         \u001b[0;32massert\u001b[0m \u001b[0mlast_error\u001b[0m \u001b[0;32mis\u001b[0m \u001b[0;32mnot\u001b[0m \u001b[0;32mNone\u001b[0m\u001b[0;34m\u001b[0m\u001b[0;34m\u001b[0m\u001b[0m\n\u001b[1;32m   1447\u001b[0m                         \u001b[0;32mraise\u001b[0m \u001b[0mlast_error\u001b[0m\u001b[0;34m\u001b[0m\u001b[0;34m\u001b[0m\u001b[0m\n\u001b[0;32m-> 1448\u001b[0;31m                     \u001b[0;32mreturn\u001b[0m \u001b[0mfunc\u001b[0m\u001b[0;34m(\u001b[0m\u001b[0msession\u001b[0m\u001b[0;34m,\u001b[0m \u001b[0mserver\u001b[0m\u001b[0;34m,\u001b[0m \u001b[0msock_info\u001b[0m\u001b[0;34m,\u001b[0m \u001b[0mread_pref\u001b[0m\u001b[0;34m)\u001b[0m\u001b[0;34m\u001b[0m\u001b[0;34m\u001b[0m\u001b[0m\n\u001b[0m\u001b[1;32m   1449\u001b[0m             \u001b[0;32mexcept\u001b[0m \u001b[0mServerSelectionTimeoutError\u001b[0m\u001b[0;34m:\u001b[0m\u001b[0;34m\u001b[0m\u001b[0;34m\u001b[0m\u001b[0m\n\u001b[1;32m   1450\u001b[0m                 \u001b[0;32mif\u001b[0m \u001b[0mretrying\u001b[0m\u001b[0;34m:\u001b[0m\u001b[0;34m\u001b[0m\u001b[0;34m\u001b[0m\u001b[0m\n",
            "\u001b[0;32m/usr/local/lib/python3.8/dist-packages/pymongo/mongo_client.py\u001b[0m in \u001b[0;36m_cmd\u001b[0;34m(session, server, sock_info, read_preference)\u001b[0m\n\u001b[1;32m   1324\u001b[0m         \u001b[0;32mdef\u001b[0m \u001b[0m_cmd\u001b[0m\u001b[0;34m(\u001b[0m\u001b[0msession\u001b[0m\u001b[0;34m,\u001b[0m \u001b[0mserver\u001b[0m\u001b[0;34m,\u001b[0m \u001b[0msock_info\u001b[0m\u001b[0;34m,\u001b[0m \u001b[0mread_preference\u001b[0m\u001b[0;34m)\u001b[0m\u001b[0;34m:\u001b[0m\u001b[0;34m\u001b[0m\u001b[0;34m\u001b[0m\u001b[0m\n\u001b[1;32m   1325\u001b[0m             \u001b[0moperation\u001b[0m\u001b[0;34m.\u001b[0m\u001b[0mreset\u001b[0m\u001b[0;34m(\u001b[0m\u001b[0;34m)\u001b[0m  \u001b[0;31m# Reset op in case of retry.\u001b[0m\u001b[0;34m\u001b[0m\u001b[0;34m\u001b[0m\u001b[0m\n\u001b[0;32m-> 1326\u001b[0;31m             return server.run_operation(\n\u001b[0m\u001b[1;32m   1327\u001b[0m                 \u001b[0msock_info\u001b[0m\u001b[0;34m,\u001b[0m \u001b[0moperation\u001b[0m\u001b[0;34m,\u001b[0m \u001b[0mread_preference\u001b[0m\u001b[0;34m,\u001b[0m \u001b[0mself\u001b[0m\u001b[0;34m.\u001b[0m\u001b[0m_event_listeners\u001b[0m\u001b[0;34m,\u001b[0m \u001b[0munpack_res\u001b[0m\u001b[0;34m\u001b[0m\u001b[0;34m\u001b[0m\u001b[0m\n\u001b[1;32m   1328\u001b[0m             )\n",
            "\u001b[0;32m/usr/local/lib/python3.8/dist-packages/pymongo/server.py\u001b[0m in \u001b[0;36mrun_operation\u001b[0;34m(self, sock_info, operation, read_preference, listeners, unpack_res)\u001b[0m\n\u001b[1;32m    113\u001b[0m             \u001b[0;32melse\u001b[0m\u001b[0;34m:\u001b[0m\u001b[0;34m\u001b[0m\u001b[0;34m\u001b[0m\u001b[0m\n\u001b[1;32m    114\u001b[0m                 \u001b[0msock_info\u001b[0m\u001b[0;34m.\u001b[0m\u001b[0msend_message\u001b[0m\u001b[0;34m(\u001b[0m\u001b[0mdata\u001b[0m\u001b[0;34m,\u001b[0m \u001b[0mmax_doc_size\u001b[0m\u001b[0;34m)\u001b[0m\u001b[0;34m\u001b[0m\u001b[0;34m\u001b[0m\u001b[0m\n\u001b[0;32m--> 115\u001b[0;31m                 \u001b[0mreply\u001b[0m \u001b[0;34m=\u001b[0m \u001b[0msock_info\u001b[0m\u001b[0;34m.\u001b[0m\u001b[0mreceive_message\u001b[0m\u001b[0;34m(\u001b[0m\u001b[0mrequest_id\u001b[0m\u001b[0;34m)\u001b[0m\u001b[0;34m\u001b[0m\u001b[0;34m\u001b[0m\u001b[0m\n\u001b[0m\u001b[1;32m    116\u001b[0m \u001b[0;34m\u001b[0m\u001b[0m\n\u001b[1;32m    117\u001b[0m             \u001b[0;31m# Unpack and check for command errors.\u001b[0m\u001b[0;34m\u001b[0m\u001b[0;34m\u001b[0m\u001b[0;34m\u001b[0m\u001b[0m\n",
            "\u001b[0;32m/usr/local/lib/python3.8/dist-packages/pymongo/pool.py\u001b[0m in \u001b[0;36mreceive_message\u001b[0;34m(self, request_id)\u001b[0m\n\u001b[1;32m    819\u001b[0m             \u001b[0;32mreturn\u001b[0m \u001b[0mreceive_message\u001b[0m\u001b[0;34m(\u001b[0m\u001b[0mself\u001b[0m\u001b[0;34m,\u001b[0m \u001b[0mrequest_id\u001b[0m\u001b[0;34m,\u001b[0m \u001b[0mself\u001b[0m\u001b[0;34m.\u001b[0m\u001b[0mmax_message_size\u001b[0m\u001b[0;34m)\u001b[0m\u001b[0;34m\u001b[0m\u001b[0;34m\u001b[0m\u001b[0m\n\u001b[1;32m    820\u001b[0m         \u001b[0;32mexcept\u001b[0m \u001b[0mBaseException\u001b[0m \u001b[0;32mas\u001b[0m \u001b[0merror\u001b[0m\u001b[0;34m:\u001b[0m\u001b[0;34m\u001b[0m\u001b[0;34m\u001b[0m\u001b[0m\n\u001b[0;32m--> 821\u001b[0;31m             \u001b[0mself\u001b[0m\u001b[0;34m.\u001b[0m\u001b[0m_raise_connection_failure\u001b[0m\u001b[0;34m(\u001b[0m\u001b[0merror\u001b[0m\u001b[0;34m)\u001b[0m\u001b[0;34m\u001b[0m\u001b[0;34m\u001b[0m\u001b[0m\n\u001b[0m\u001b[1;32m    822\u001b[0m \u001b[0;34m\u001b[0m\u001b[0m\n\u001b[1;32m    823\u001b[0m     \u001b[0;32mdef\u001b[0m \u001b[0m_raise_if_not_writable\u001b[0m\u001b[0;34m(\u001b[0m\u001b[0mself\u001b[0m\u001b[0;34m,\u001b[0m \u001b[0munacknowledged\u001b[0m\u001b[0;34m)\u001b[0m\u001b[0;34m:\u001b[0m\u001b[0;34m\u001b[0m\u001b[0;34m\u001b[0m\u001b[0m\n",
            "\u001b[0;32m/usr/local/lib/python3.8/dist-packages/pymongo/pool.py\u001b[0m in \u001b[0;36mreceive_message\u001b[0;34m(self, request_id)\u001b[0m\n\u001b[1;32m    817\u001b[0m         \"\"\"\n\u001b[1;32m    818\u001b[0m         \u001b[0;32mtry\u001b[0m\u001b[0;34m:\u001b[0m\u001b[0;34m\u001b[0m\u001b[0;34m\u001b[0m\u001b[0m\n\u001b[0;32m--> 819\u001b[0;31m             \u001b[0;32mreturn\u001b[0m \u001b[0mreceive_message\u001b[0m\u001b[0;34m(\u001b[0m\u001b[0mself\u001b[0m\u001b[0;34m,\u001b[0m \u001b[0mrequest_id\u001b[0m\u001b[0;34m,\u001b[0m \u001b[0mself\u001b[0m\u001b[0;34m.\u001b[0m\u001b[0mmax_message_size\u001b[0m\u001b[0;34m)\u001b[0m\u001b[0;34m\u001b[0m\u001b[0;34m\u001b[0m\u001b[0m\n\u001b[0m\u001b[1;32m    820\u001b[0m         \u001b[0;32mexcept\u001b[0m \u001b[0mBaseException\u001b[0m \u001b[0;32mas\u001b[0m \u001b[0merror\u001b[0m\u001b[0;34m:\u001b[0m\u001b[0;34m\u001b[0m\u001b[0;34m\u001b[0m\u001b[0m\n\u001b[1;32m    821\u001b[0m             \u001b[0mself\u001b[0m\u001b[0;34m.\u001b[0m\u001b[0m_raise_connection_failure\u001b[0m\u001b[0;34m(\u001b[0m\u001b[0merror\u001b[0m\u001b[0;34m)\u001b[0m\u001b[0;34m\u001b[0m\u001b[0;34m\u001b[0m\u001b[0m\n",
            "\u001b[0;32m/usr/local/lib/python3.8/dist-packages/pymongo/network.py\u001b[0m in \u001b[0;36mreceive_message\u001b[0;34m(sock_info, request_id, max_message_size)\u001b[0m\n\u001b[1;32m    215\u001b[0m     \u001b[0;31m# Ignore the response's request id.\u001b[0m\u001b[0;34m\u001b[0m\u001b[0;34m\u001b[0m\u001b[0;34m\u001b[0m\u001b[0m\n\u001b[1;32m    216\u001b[0m     length, _, response_to, op_code = _UNPACK_HEADER(\n\u001b[0;32m--> 217\u001b[0;31m         \u001b[0m_receive_data_on_socket\u001b[0m\u001b[0;34m(\u001b[0m\u001b[0msock_info\u001b[0m\u001b[0;34m,\u001b[0m \u001b[0;36m16\u001b[0m\u001b[0;34m,\u001b[0m \u001b[0mdeadline\u001b[0m\u001b[0;34m)\u001b[0m\u001b[0;34m\u001b[0m\u001b[0;34m\u001b[0m\u001b[0m\n\u001b[0m\u001b[1;32m    218\u001b[0m     )\n\u001b[1;32m    219\u001b[0m     \u001b[0;31m# No request_id for exhaust cursor \"getMore\".\u001b[0m\u001b[0;34m\u001b[0m\u001b[0;34m\u001b[0m\u001b[0;34m\u001b[0m\u001b[0m\n",
            "\u001b[0;32m/usr/local/lib/python3.8/dist-packages/pymongo/network.py\u001b[0m in \u001b[0;36m_receive_data_on_socket\u001b[0;34m(sock_info, length, deadline)\u001b[0m\n\u001b[1;32m    297\u001b[0m             \u001b[0;32mif\u001b[0m \u001b[0m_csot\u001b[0m\u001b[0;34m.\u001b[0m\u001b[0mget_timeout\u001b[0m\u001b[0;34m(\u001b[0m\u001b[0;34m)\u001b[0m\u001b[0;34m:\u001b[0m\u001b[0;34m\u001b[0m\u001b[0;34m\u001b[0m\u001b[0m\n\u001b[1;32m    298\u001b[0m                 \u001b[0msock_info\u001b[0m\u001b[0;34m.\u001b[0m\u001b[0mset_socket_timeout\u001b[0m\u001b[0;34m(\u001b[0m\u001b[0mmax\u001b[0m\u001b[0;34m(\u001b[0m\u001b[0mdeadline\u001b[0m \u001b[0;34m-\u001b[0m \u001b[0mtime\u001b[0m\u001b[0;34m.\u001b[0m\u001b[0mmonotonic\u001b[0m\u001b[0;34m(\u001b[0m\u001b[0;34m)\u001b[0m\u001b[0;34m,\u001b[0m \u001b[0;36m0\u001b[0m\u001b[0;34m)\u001b[0m\u001b[0;34m)\u001b[0m\u001b[0;34m\u001b[0m\u001b[0;34m\u001b[0m\u001b[0m\n\u001b[0;32m--> 299\u001b[0;31m             \u001b[0mchunk_length\u001b[0m \u001b[0;34m=\u001b[0m \u001b[0msock_info\u001b[0m\u001b[0;34m.\u001b[0m\u001b[0msock\u001b[0m\u001b[0;34m.\u001b[0m\u001b[0mrecv_into\u001b[0m\u001b[0;34m(\u001b[0m\u001b[0mmv\u001b[0m\u001b[0;34m[\u001b[0m\u001b[0mbytes_read\u001b[0m\u001b[0;34m:\u001b[0m\u001b[0;34m]\u001b[0m\u001b[0;34m)\u001b[0m\u001b[0;34m\u001b[0m\u001b[0;34m\u001b[0m\u001b[0m\n\u001b[0m\u001b[1;32m    300\u001b[0m         \u001b[0;32mexcept\u001b[0m \u001b[0mBLOCKING_IO_ERRORS\u001b[0m\u001b[0;34m:\u001b[0m\u001b[0;34m\u001b[0m\u001b[0;34m\u001b[0m\u001b[0m\n\u001b[1;32m    301\u001b[0m             \u001b[0;32mraise\u001b[0m \u001b[0msocket\u001b[0m\u001b[0;34m.\u001b[0m\u001b[0mtimeout\u001b[0m\u001b[0;34m(\u001b[0m\u001b[0;34m\"timed out\"\u001b[0m\u001b[0;34m)\u001b[0m\u001b[0;34m\u001b[0m\u001b[0;34m\u001b[0m\u001b[0m\n",
            "\u001b[0;32m/usr/lib/python3.8/ssl.py\u001b[0m in \u001b[0;36mrecv_into\u001b[0;34m(self, buffer, nbytes, flags)\u001b[0m\n\u001b[1;32m   1239\u001b[0m                   \u001b[0;34m\"non-zero flags not allowed in calls to recv_into() on %s\"\u001b[0m \u001b[0;34m%\u001b[0m\u001b[0;34m\u001b[0m\u001b[0;34m\u001b[0m\u001b[0m\n\u001b[1;32m   1240\u001b[0m                   self.__class__)\n\u001b[0;32m-> 1241\u001b[0;31m             \u001b[0;32mreturn\u001b[0m \u001b[0mself\u001b[0m\u001b[0;34m.\u001b[0m\u001b[0mread\u001b[0m\u001b[0;34m(\u001b[0m\u001b[0mnbytes\u001b[0m\u001b[0;34m,\u001b[0m \u001b[0mbuffer\u001b[0m\u001b[0;34m)\u001b[0m\u001b[0;34m\u001b[0m\u001b[0;34m\u001b[0m\u001b[0m\n\u001b[0m\u001b[1;32m   1242\u001b[0m         \u001b[0;32melse\u001b[0m\u001b[0;34m:\u001b[0m\u001b[0;34m\u001b[0m\u001b[0;34m\u001b[0m\u001b[0m\n\u001b[1;32m   1243\u001b[0m             \u001b[0;32mreturn\u001b[0m \u001b[0msuper\u001b[0m\u001b[0;34m(\u001b[0m\u001b[0;34m)\u001b[0m\u001b[0;34m.\u001b[0m\u001b[0mrecv_into\u001b[0m\u001b[0;34m(\u001b[0m\u001b[0mbuffer\u001b[0m\u001b[0;34m,\u001b[0m \u001b[0mnbytes\u001b[0m\u001b[0;34m,\u001b[0m \u001b[0mflags\u001b[0m\u001b[0;34m)\u001b[0m\u001b[0;34m\u001b[0m\u001b[0;34m\u001b[0m\u001b[0m\n",
            "\u001b[0;32m/usr/lib/python3.8/ssl.py\u001b[0m in \u001b[0;36mread\u001b[0;34m(self, len, buffer)\u001b[0m\n\u001b[1;32m   1097\u001b[0m         \u001b[0;32mtry\u001b[0m\u001b[0;34m:\u001b[0m\u001b[0;34m\u001b[0m\u001b[0;34m\u001b[0m\u001b[0m\n\u001b[1;32m   1098\u001b[0m             \u001b[0;32mif\u001b[0m \u001b[0mbuffer\u001b[0m \u001b[0;32mis\u001b[0m \u001b[0;32mnot\u001b[0m \u001b[0;32mNone\u001b[0m\u001b[0;34m:\u001b[0m\u001b[0;34m\u001b[0m\u001b[0;34m\u001b[0m\u001b[0m\n\u001b[0;32m-> 1099\u001b[0;31m                 \u001b[0;32mreturn\u001b[0m \u001b[0mself\u001b[0m\u001b[0;34m.\u001b[0m\u001b[0m_sslobj\u001b[0m\u001b[0;34m.\u001b[0m\u001b[0mread\u001b[0m\u001b[0;34m(\u001b[0m\u001b[0mlen\u001b[0m\u001b[0;34m,\u001b[0m \u001b[0mbuffer\u001b[0m\u001b[0;34m)\u001b[0m\u001b[0;34m\u001b[0m\u001b[0;34m\u001b[0m\u001b[0m\n\u001b[0m\u001b[1;32m   1100\u001b[0m             \u001b[0;32melse\u001b[0m\u001b[0;34m:\u001b[0m\u001b[0;34m\u001b[0m\u001b[0;34m\u001b[0m\u001b[0m\n\u001b[1;32m   1101\u001b[0m                 \u001b[0;32mreturn\u001b[0m \u001b[0mself\u001b[0m\u001b[0;34m.\u001b[0m\u001b[0m_sslobj\u001b[0m\u001b[0;34m.\u001b[0m\u001b[0mread\u001b[0m\u001b[0;34m(\u001b[0m\u001b[0mlen\u001b[0m\u001b[0;34m)\u001b[0m\u001b[0;34m\u001b[0m\u001b[0;34m\u001b[0m\u001b[0m\n",
            "\u001b[0;31mKeyboardInterrupt\u001b[0m: "
          ]
        }
      ],
      "source": [
        "# Transformando os documentos em dataframes pandas\n",
        "cursor1 = collection1.find({})\n",
        "df1 = pd.DataFrame(list(cursor1))"
      ]
    },
    {
      "cell_type": "markdown",
      "metadata": {},
      "source": [
        "# Aqui iremos começar alguns tratamentos utilizando apenas o Pandas. Para operações mais especificas, utilizaremos Spark mais abaixo no código."
      ]
    },
    {
      "cell_type": "code",
      "execution_count": null,
      "metadata": {
        "id": "NiHB3zg_6SHd"
      },
      "outputs": [],
      "source": [
        "# Visualização inicial do dataframe\n",
        "df1.head(5)"
      ]
    },
    {
      "cell_type": "code",
      "execution_count": null,
      "metadata": {
        "id": "9FP2ucds6bMD"
      },
      "outputs": [],
      "source": [
        "# Verificando os tipos de dados das colunas\n",
        "df1.dtypes"
      ]
    },
    {
      "cell_type": "code",
      "execution_count": null,
      "metadata": {
        "id": "kVqIs1fF6tNE"
      },
      "outputs": [],
      "source": [
        "# Dropando a coluna contendo a identificação do mongoDB sobre cada objeto\n",
        "df1.drop('_id', axis=1, inplace=True)"
      ]
    },
    {
      "cell_type": "code",
      "execution_count": null,
      "metadata": {
        "colab": {
          "base_uri": "https://localhost:8080/",
          "height": 669
        },
        "id": "tYqu-NhO7KTV",
        "outputId": "fed6db51-8e06-4200-abc4-0e8517dbc77a"
      },
      "outputs": [
        {
          "data": {
            "text/html": [
              "\n",
              "  <div id=\"df-413ddeb6-2cc2-4ef4-b815-4b1ec7d01fa9\">\n",
              "    <div class=\"colab-df-container\">\n",
              "      <div>\n",
              "<style scoped>\n",
              "    .dataframe tbody tr th:only-of-type {\n",
              "        vertical-align: middle;\n",
              "    }\n",
              "\n",
              "    .dataframe tbody tr th {\n",
              "        vertical-align: top;\n",
              "    }\n",
              "\n",
              "    .dataframe thead th {\n",
              "        text-align: right;\n",
              "    }\n",
              "</style>\n",
              "<table border=\"1\" class=\"dataframe\">\n",
              "  <thead>\n",
              "    <tr style=\"text-align: right;\">\n",
              "      <th></th>\n",
              "      <th>index</th>\n",
              "      <th>Agente  Causador  Acidente</th>\n",
              "      <th>Data Acidente</th>\n",
              "      <th>CBO</th>\n",
              "      <th>CID-10</th>\n",
              "      <th>CNAE2.0 Empregador</th>\n",
              "      <th>CNAE2.0 Empregador.1</th>\n",
              "      <th>Emitente CAT</th>\n",
              "      <th>Espécie do benefício</th>\n",
              "      <th>Filiação Segurado</th>\n",
              "      <th>Indica Óbito Acidente</th>\n",
              "      <th>Munic Empr</th>\n",
              "      <th>Natureza da Lesão</th>\n",
              "      <th>Origem de Cadastramento CAT</th>\n",
              "      <th>Parte Corpo Atingida</th>\n",
              "      <th>Sexo</th>\n",
              "      <th>Tipo do Acidente</th>\n",
              "      <th>UF  Munic.  Acidente</th>\n",
              "      <th>UF Munic. Empregador</th>\n",
              "      <th>Data Acidente.1</th>\n",
              "      <th>Data Despacho Benefício</th>\n",
              "      <th>Data Acidente.2</th>\n",
              "      <th>Data Nascimento</th>\n",
              "      <th>Data Emissão CAT</th>\n",
              "      <th>CNPJ/CEI Empregador,,,,,,,,,,,,</th>\n",
              "    </tr>\n",
              "  </thead>\n",
              "  <tbody>\n",
              "    <tr>\n",
              "      <th>0</th>\n",
              "      <td>0</td>\n",
              "      <td>{ñ class}</td>\n",
              "      <td>2022/01</td>\n",
              "      <td>515105-Agente Comunitário de Saúde</td>\n",
              "      <td>B34.2 Infecc p/Coronavirus Ne</td>\n",
              "      <td>8630</td>\n",
              "      <td>Atividades de Atencao Ambulatorial Executadas</td>\n",
              "      <td>Empregador</td>\n",
              "      <td>Pa</td>\n",
              "      <td>Empregado</td>\n",
              "      <td>Não</td>\n",
              "      <td>354780-Santo André-Sp</td>\n",
              "      <td>Doenca Contagiosa ou Infecciosa (Tuberculos</td>\n",
              "      <td>Internet</td>\n",
              "      <td>Aparelho Respiratorio</td>\n",
              "      <td>Feminino</td>\n",
              "      <td>Doença</td>\n",
              "      <td>Maranhão</td>\n",
              "      <td>São Paulo</td>\n",
              "      <td>2022/01</td>\n",
              "      <td>0000/00</td>\n",
              "      <td>20/01/2022</td>\n",
              "      <td>02/08/1970</td>\n",
              "      <td>01/03/2022</td>\n",
              "      <td>57.571.275.002.570,,,,,,,,,,,,</td>\n",
              "    </tr>\n",
              "    <tr>\n",
              "      <th>1</th>\n",
              "      <td>1</td>\n",
              "      <td>Motocicleta,Motoneta</td>\n",
              "      <td>2022/02</td>\n",
              "      <td>519110-Motociclista no Transporte de Document</td>\n",
              "      <td>S52.5 Frat da Extremidade Distal do Radio</td>\n",
              "      <td>4930</td>\n",
              "      <td>Transporte Rodoviario de Carga</td>\n",
              "      <td>Segurado/Dependente</td>\n",
              "      <td>Pa</td>\n",
              "      <td>Empregado</td>\n",
              "      <td>Não</td>\n",
              "      <td>355030-São Paulo</td>\n",
              "      <td>Fratura</td>\n",
              "      <td>Internet</td>\n",
              "      <td>Braco (Entre O Punho a O Ombro)</td>\n",
              "      <td>Masculino</td>\n",
              "      <td>Trajeto</td>\n",
              "      <td>Maranhão</td>\n",
              "      <td>São Paulo</td>\n",
              "      <td>2022/02</td>\n",
              "      <td>0000/00</td>\n",
              "      <td>25/02/2022</td>\n",
              "      <td>16/12/1990</td>\n",
              "      <td>01/03/2022</td>\n",
              "      <td>19.578.086.000.162,,,,,,,,,,,</td>\n",
              "    </tr>\n",
              "    <tr>\n",
              "      <th>2</th>\n",
              "      <td>2</td>\n",
              "      <td>Motocicleta,Motoneta</td>\n",
              "      <td>2022/02</td>\n",
              "      <td>519110-Motociclista no Transporte de Document</td>\n",
              "      <td>S52.5 Frat da Extremidade Distal do Radio</td>\n",
              "      <td>4930</td>\n",
              "      <td>Transporte Rodoviario de Carga</td>\n",
              "      <td>Segurado/Dependente</td>\n",
              "      <td>Pa</td>\n",
              "      <td>Empregado</td>\n",
              "      <td>Não</td>\n",
              "      <td>355030-São Paulo</td>\n",
              "      <td>Fratura</td>\n",
              "      <td>Internet</td>\n",
              "      <td>Braco (Entre O Punho a O Ombro)</td>\n",
              "      <td>Masculino</td>\n",
              "      <td>Trajeto</td>\n",
              "      <td>Maranhão</td>\n",
              "      <td>São Paulo</td>\n",
              "      <td>2022/02</td>\n",
              "      <td>0000/00</td>\n",
              "      <td>25/02/2022</td>\n",
              "      <td>16/12/1990</td>\n",
              "      <td>01/03/2022</td>\n",
              "      <td>19.578.086.000.162,,,,,,,,,,,</td>\n",
              "    </tr>\n",
              "    <tr>\n",
              "      <th>3</th>\n",
              "      <td>3</td>\n",
              "      <td>Aprision. Em,Sobre ou Entre Dois ou Mai</td>\n",
              "      <td>2022/02</td>\n",
              "      <td>514205-Coletor Lixo</td>\n",
              "      <td>S60.0 Contusao de Dedos s/Lesao da Unha</td>\n",
              "      <td>3811</td>\n",
              "      <td>Coleta de Residuos Nao-Perigosos</td>\n",
              "      <td>Empregador</td>\n",
              "      <td>Pa</td>\n",
              "      <td>Empregado</td>\n",
              "      <td>Não</td>\n",
              "      <td>520110-Anápolis</td>\n",
              "      <td>Luxacao</td>\n",
              "      <td>Internet</td>\n",
              "      <td>Punho</td>\n",
              "      <td>Masculino</td>\n",
              "      <td>Típico</td>\n",
              "      <td>{ñ class}</td>\n",
              "      <td>Goiás</td>\n",
              "      <td>2022/02</td>\n",
              "      <td>0000/00</td>\n",
              "      <td>24/02/2022</td>\n",
              "      <td>19/09/1986</td>\n",
              "      <td>01/03/2022</td>\n",
              "      <td>00.000.000.000.000,,,,,,,,,,,</td>\n",
              "    </tr>\n",
              "    <tr>\n",
              "      <th>4</th>\n",
              "      <td>4</td>\n",
              "      <td>Impacto de Pes. Contra Objeto em Movimento</td>\n",
              "      <td>2022/01</td>\n",
              "      <td>{ñ class}</td>\n",
              "      <td>S90.0 Contusao do Tornozelo</td>\n",
              "      <td>4639</td>\n",
              "      <td>Comercio Atacadista de Produtos Alimenticios</td>\n",
              "      <td>Empregador</td>\n",
              "      <td>Pa</td>\n",
              "      <td>Empregado</td>\n",
              "      <td>Não</td>\n",
              "      <td>330100-Campos dos Goytacazes</td>\n",
              "      <td>Luxacao</td>\n",
              "      <td>Internet</td>\n",
              "      <td>Perna (Entre O Tornozelo e a Pelvis)</td>\n",
              "      <td>Masculino</td>\n",
              "      <td>Típico</td>\n",
              "      <td>Maranhão</td>\n",
              "      <td>São Paulo</td>\n",
              "      <td>2022/01</td>\n",
              "      <td>0000/00</td>\n",
              "      <td>28/01/2022</td>\n",
              "      <td>25/07/1995</td>\n",
              "      <td>01/03/2022</td>\n",
              "      <td>00.000.000.000.000,,,,,,,,,,,,</td>\n",
              "    </tr>\n",
              "  </tbody>\n",
              "</table>\n",
              "</div>\n",
              "      <button class=\"colab-df-convert\" onclick=\"convertToInteractive('df-413ddeb6-2cc2-4ef4-b815-4b1ec7d01fa9')\"\n",
              "              title=\"Convert this dataframe to an interactive table.\"\n",
              "              style=\"display:none;\">\n",
              "        \n",
              "  <svg xmlns=\"http://www.w3.org/2000/svg\" height=\"24px\"viewBox=\"0 0 24 24\"\n",
              "       width=\"24px\">\n",
              "    <path d=\"M0 0h24v24H0V0z\" fill=\"none\"/>\n",
              "    <path d=\"M18.56 5.44l.94 2.06.94-2.06 2.06-.94-2.06-.94-.94-2.06-.94 2.06-2.06.94zm-11 1L8.5 8.5l.94-2.06 2.06-.94-2.06-.94L8.5 2.5l-.94 2.06-2.06.94zm10 10l.94 2.06.94-2.06 2.06-.94-2.06-.94-.94-2.06-.94 2.06-2.06.94z\"/><path d=\"M17.41 7.96l-1.37-1.37c-.4-.4-.92-.59-1.43-.59-.52 0-1.04.2-1.43.59L10.3 9.45l-7.72 7.72c-.78.78-.78 2.05 0 2.83L4 21.41c.39.39.9.59 1.41.59.51 0 1.02-.2 1.41-.59l7.78-7.78 2.81-2.81c.8-.78.8-2.07 0-2.86zM5.41 20L4 18.59l7.72-7.72 1.47 1.35L5.41 20z\"/>\n",
              "  </svg>\n",
              "      </button>\n",
              "      \n",
              "  <style>\n",
              "    .colab-df-container {\n",
              "      display:flex;\n",
              "      flex-wrap:wrap;\n",
              "      gap: 12px;\n",
              "    }\n",
              "\n",
              "    .colab-df-convert {\n",
              "      background-color: #E8F0FE;\n",
              "      border: none;\n",
              "      border-radius: 50%;\n",
              "      cursor: pointer;\n",
              "      display: none;\n",
              "      fill: #1967D2;\n",
              "      height: 32px;\n",
              "      padding: 0 0 0 0;\n",
              "      width: 32px;\n",
              "    }\n",
              "\n",
              "    .colab-df-convert:hover {\n",
              "      background-color: #E2EBFA;\n",
              "      box-shadow: 0px 1px 2px rgba(60, 64, 67, 0.3), 0px 1px 3px 1px rgba(60, 64, 67, 0.15);\n",
              "      fill: #174EA6;\n",
              "    }\n",
              "\n",
              "    [theme=dark] .colab-df-convert {\n",
              "      background-color: #3B4455;\n",
              "      fill: #D2E3FC;\n",
              "    }\n",
              "\n",
              "    [theme=dark] .colab-df-convert:hover {\n",
              "      background-color: #434B5C;\n",
              "      box-shadow: 0px 1px 3px 1px rgba(0, 0, 0, 0.15);\n",
              "      filter: drop-shadow(0px 1px 2px rgba(0, 0, 0, 0.3));\n",
              "      fill: #FFFFFF;\n",
              "    }\n",
              "  </style>\n",
              "\n",
              "      <script>\n",
              "        const buttonEl =\n",
              "          document.querySelector('#df-413ddeb6-2cc2-4ef4-b815-4b1ec7d01fa9 button.colab-df-convert');\n",
              "        buttonEl.style.display =\n",
              "          google.colab.kernel.accessAllowed ? 'block' : 'none';\n",
              "\n",
              "        async function convertToInteractive(key) {\n",
              "          const element = document.querySelector('#df-413ddeb6-2cc2-4ef4-b815-4b1ec7d01fa9');\n",
              "          const dataTable =\n",
              "            await google.colab.kernel.invokeFunction('convertToInteractive',\n",
              "                                                     [key], {});\n",
              "          if (!dataTable) return;\n",
              "\n",
              "          const docLinkHtml = 'Like what you see? Visit the ' +\n",
              "            '<a target=\"_blank\" href=https://colab.research.google.com/notebooks/data_table.ipynb>data table notebook</a>'\n",
              "            + ' to learn more about interactive tables.';\n",
              "          element.innerHTML = '';\n",
              "          dataTable['output_type'] = 'display_data';\n",
              "          await google.colab.output.renderOutput(dataTable, element);\n",
              "          const docLink = document.createElement('div');\n",
              "          docLink.innerHTML = docLinkHtml;\n",
              "          element.appendChild(docLink);\n",
              "        }\n",
              "      </script>\n",
              "    </div>\n",
              "  </div>\n",
              "  "
            ],
            "text/plain": [
              "   index                     Agente  Causador  Acidente Data Acidente  \\\n",
              "0      0  {ñ class}                                           2022/01   \n",
              "1      1   Motocicleta,Motoneta                               2022/02   \n",
              "2      2   Motocicleta,Motoneta                               2022/02   \n",
              "3      3   Aprision. Em,Sobre ou Entre Dois ou Mai            2022/02   \n",
              "4      4  Impacto de Pes. Contra Objeto em Movimento          2022/01   \n",
              "\n",
              "                                             CBO  \\\n",
              "0  515105-Agente Comunitário de Saúde              \n",
              "1  519110-Motociclista no Transporte de Document   \n",
              "2  519110-Motociclista no Transporte de Document   \n",
              "3  514205-Coletor Lixo                             \n",
              "4  {ñ class}                                       \n",
              "\n",
              "                                          CID-10  CNAE2.0 Empregador  \\\n",
              "0  B34.2 Infecc p/Coronavirus Ne                                8630   \n",
              "1  S52.5 Frat da Extremidade Distal do Radio                    4930   \n",
              "2  S52.5 Frat da Extremidade Distal do Radio                    4930   \n",
              "3  S60.0 Contusao de Dedos s/Lesao da Unha                      3811   \n",
              "4  S90.0 Contusao do Tornozelo                                  4639   \n",
              "\n",
              "                            CNAE2.0 Empregador.1         Emitente CAT  \\\n",
              "0  Atividades de Atencao Ambulatorial Executadas  Empregador            \n",
              "1  Transporte Rodoviario de Carga                 Segurado/Dependente   \n",
              "2  Transporte Rodoviario de Carga                 Segurado/Dependente   \n",
              "3  Coleta de Residuos Nao-Perigosos               Empregador            \n",
              "4  Comercio Atacadista de Produtos Alimenticios   Empregador            \n",
              "\n",
              "                            Espécie do benefício  \\\n",
              "0  Pa                                              \n",
              "1  Pa                                              \n",
              "2  Pa                                              \n",
              "3  Pa                                              \n",
              "4  Pa                                              \n",
              "\n",
              "                               Filiação Segurado Indica Óbito Acidente  \\\n",
              "0  Empregado                                                       Não   \n",
              "1  Empregado                                                       Não   \n",
              "2  Empregado                                                       Não   \n",
              "3  Empregado                                                       Não   \n",
              "4  Empregado                                                       Não   \n",
              "\n",
              "                                  Munic Empr  \\\n",
              "0  354780-Santo André-Sp                       \n",
              "1  355030-São Paulo                            \n",
              "2  355030-São Paulo                            \n",
              "3  520110-Anápolis                             \n",
              "4  330100-Campos dos Goytacazes                \n",
              "\n",
              "                               Natureza da Lesão Origem de Cadastramento CAT  \\\n",
              "0  Doenca Contagiosa ou Infecciosa (Tuberculos                      Internet   \n",
              "1  Fratura                                                          Internet   \n",
              "2  Fratura                                                          Internet   \n",
              "3  Luxacao                                                          Internet   \n",
              "4  Luxacao                                                          Internet   \n",
              "\n",
              "                            Parte Corpo Atingida           Sexo  \\\n",
              "0  Aparelho Respiratorio                          Feminino        \n",
              "1  Braco (Entre O Punho a O Ombro)                Masculino       \n",
              "2  Braco (Entre O Punho a O Ombro)                Masculino       \n",
              "3  Punho                                          Masculino       \n",
              "4  Perna (Entre O Tornozelo e a Pelvis)           Masculino       \n",
              "\n",
              "  Tipo do Acidente UF  Munic.  Acidente UF Munic. Empregador Data Acidente.1  \\\n",
              "0         Doença       Maranhão          São Paulo                   2022/01   \n",
              "1         Trajeto      Maranhão          São Paulo                   2022/02   \n",
              "2         Trajeto      Maranhão          São Paulo                   2022/02   \n",
              "3         Típico       {ñ class}         Goiás                       2022/02   \n",
              "4         Típico       Maranhão          São Paulo                   2022/01   \n",
              "\n",
              "  Data Despacho Benefício Data Acidente.2 Data Nascimento Data Emissão CAT  \\\n",
              "0                 0000/00      20/01/2022      02/08/1970       01/03/2022   \n",
              "1                 0000/00      25/02/2022      16/12/1990       01/03/2022   \n",
              "2                 0000/00      25/02/2022      16/12/1990       01/03/2022   \n",
              "3                 0000/00      24/02/2022      19/09/1986       01/03/2022   \n",
              "4                 0000/00      28/01/2022      25/07/1995       01/03/2022   \n",
              "\n",
              "  CNPJ/CEI Empregador,,,,,,,,,,,,  \n",
              "0  57.571.275.002.570,,,,,,,,,,,,  \n",
              "1   19.578.086.000.162,,,,,,,,,,,  \n",
              "2   19.578.086.000.162,,,,,,,,,,,  \n",
              "3   00.000.000.000.000,,,,,,,,,,,  \n",
              "4  00.000.000.000.000,,,,,,,,,,,,  "
            ]
          },
          "execution_count": 43,
          "metadata": {},
          "output_type": "execute_result"
        }
      ],
      "source": [
        "## Verificando se a dropagem foi executada\n",
        "\n",
        "df1.head(5)"
      ]
    },
    {
      "cell_type": "code",
      "execution_count": null,
      "metadata": {
        "id": "QRVesRql7uf9"
      },
      "outputs": [],
      "source": [
        "## Analisando o nome das colunas\n",
        "\n",
        "df1.columns"
      ]
    },
    {
      "cell_type": "code",
      "execution_count": null,
      "metadata": {
        "id": "YIGjosNS9i1s"
      },
      "outputs": [],
      "source": [
        "# Backup\n",
        "dfback = df1.copy()"
      ]
    },
    {
      "cell_type": "code",
      "execution_count": null,
      "metadata": {
        "id": "9ehyUysizvUW"
      },
      "outputs": [],
      "source": [
        "df1 = dfback"
      ]
    },
    {
      "cell_type": "code",
      "execution_count": null,
      "metadata": {
        "id": "4Oz63XVx8E_S"
      },
      "outputs": [],
      "source": [
        "# Criando um dicionário para renomear as colunas\n",
        "\n",
        "dict_newcolumns = {'index':'id', 'Agente  Causador  Acidente': 'causa_acidente', 'Data Acidente':'data_acidente', 'CBO':'oficio', 'CID-10':'cid_10',\n",
        "                  'CNAE2.0 Empregador':'num_cnae_empregador', 'CNAE2.0 Empregador.1':'desc_cnae_empregador', 'Emitente CAT':'emitente_cat', \n",
        "                  'Espécie do benefício':'tipo_beneficio','Filiação Segurado':'filiacao_segurado', 'Indica Óbito Acidente':'obito', 'Munic Empr':'municipio_empresa', \n",
        "                  'Natureza da Lesão':'natureza_lesao', 'Origem de Cadastramento CAT':'origem_cad_cat', 'Parte Corpo Atingida':'parte_corpo_atingida', 'Sexo':'sexo', \n",
        "                  'Tipo do Acidente':'tipo_do_acidente','UF  Munic.  Acidente':'uf_acidente', 'UF Munic. Empregador':'uf_empregador', 'Data Acidente.1': 'data_acidente_1', \n",
        "                  'Data Despacho Benefício':'data_despacho_beneficio', 'Data Acidente.2':'data_acidente_2', 'Data Nascimento':'nascimento', 'Data Emissão CAT':'emissao_cat', \n",
        "                  'CNPJ/CEI Empregador,,,,,,,,,,,,':'cnpj_empregador'}"
      ]
    },
    {
      "cell_type": "code",
      "execution_count": null,
      "metadata": {
        "id": "ArZYfkiZ8krN"
      },
      "outputs": [],
      "source": [
        "# Renomeando as colunas\n",
        "\n",
        "df1.rename(columns=dict_newcolumns,inplace=True)"
      ]
    },
    {
      "cell_type": "code",
      "execution_count": null,
      "metadata": {
        "id": "Lkx6kOKN9RsF"
      },
      "outputs": [],
      "source": [
        "# Verificando as alterações \n",
        "df1.head()"
      ]
    },
    {
      "cell_type": "code",
      "execution_count": null,
      "metadata": {
        "id": "psveoIf1ocGa"
      },
      "outputs": [],
      "source": [
        "# Drop de colunas irrelevantes para analises\n",
        "df1.drop(columns=['desc_cnae_empregador', 'origem_cad_cat'], axis=1, inplace=True)"
      ]
    },
    {
      "cell_type": "code",
      "execution_count": null,
      "metadata": {
        "id": "ufMVO0LT9ex1"
      },
      "outputs": [],
      "source": [
        "# Renomeando valores para melhor compreensão \n",
        "\n",
        "df1 = df1.replace('{ñ class} ','Não informado', regex=True)"
      ]
    },
    {
      "cell_type": "code",
      "execution_count": null,
      "metadata": {
        "id": "NHAdSob1-oAF"
      },
      "outputs": [],
      "source": [
        "# Removendo virgulas do dataframe\n",
        "\n",
        "df1 = df1.replace(',', '', regex=True)"
      ]
    },
    {
      "cell_type": "code",
      "execution_count": null,
      "metadata": {
        "id": "LVaIlwws-6oh"
      },
      "outputs": [],
      "source": [
        "## Verificando as alterações \n",
        "\n",
        "df1.head()"
      ]
    },
    {
      "cell_type": "code",
      "execution_count": null,
      "metadata": {
        "id": "rcjC2huv_jSZ"
      },
      "outputs": [],
      "source": [
        "# Contagem dos valores únicos da coluna oficio\n",
        "\n",
        "df1['oficio'].value_counts()"
      ]
    },
    {
      "cell_type": "code",
      "execution_count": null,
      "metadata": {
        "colab": {
          "base_uri": "https://localhost:8080/"
        },
        "id": "Z9P2SbKRALoe",
        "outputId": "e767ac58-270c-4629-da2a-ee0bcd86a790"
      },
      "outputs": [
        {
          "name": "stderr",
          "output_type": "stream",
          "text": [
            "<ipython-input-77-740078fbfd6c>:1: FutureWarning: The default value of regex will change from True to False in a future version.\n",
            "  df1['oficio'] = df1['oficio'].str.replace(r'\\d+','')\n"
          ]
        }
      ],
      "source": [
        "# Remoção de numeros e caracteres específicos da coluna Oficio\n",
        "\n",
        "df1['oficio'] = df1['oficio'].str.replace(r'\\d+','')\n",
        "df1['oficio'] = df1['oficio'].str.replace('-', '')"
      ]
    },
    {
      "cell_type": "code",
      "execution_count": null,
      "metadata": {
        "id": "tYbbfZ0MAfsl"
      },
      "outputs": [],
      "source": [
        "# Verificação do conteúdo da coluna CNPJ EMPREGADOR\n",
        "\n",
        "df1['cnpj_empregador'].value_counts()"
      ]
    },
    {
      "cell_type": "code",
      "execution_count": null,
      "metadata": {
        "id": "foTuaz0gA7fe"
      },
      "outputs": [],
      "source": [
        "# Substituindo CNPJ nulos para NAN\n",
        "\n",
        "df1['cnpj_empregador'].replace('00.000.000.000.000', np.nan, inplace=True)"
      ]
    },
    {
      "cell_type": "code",
      "execution_count": null,
      "metadata": {
        "id": "VPVPiskVBTGu"
      },
      "outputs": [],
      "source": [
        "# Verificando as alterações\n",
        "\n",
        "df1['cnpj_empregador'].value_counts()"
      ]
    },
    {
      "cell_type": "code",
      "execution_count": null,
      "metadata": {
        "id": "v3jJ9yUiBsat"
      },
      "outputs": [],
      "source": [
        "# Verificação do conteúdo da coluna cid_10\n",
        "\n",
        "df1['cid_10'].value_counts()"
      ]
    },
    {
      "cell_type": "code",
      "execution_count": null,
      "metadata": {
        "id": "ZYZRq7TGCF5-"
      },
      "outputs": [],
      "source": [
        "# Vamos separar a coluna cid_10 em duas colunas.\n",
        "# Para isso, vamos renomear a coluna cid_10 para desc_cid-10 contendo apenas a descrição da doença/problema de saúde.\n",
        "# Então, vamos criar uma nova coluna chamada cod_cid-10 contendo apenas o código da doença/problema de saúde.\n",
        "\n",
        "df1.rename({'cid_10':'desc_cid-10'}, axis=1, inplace=True)"
      ]
    },
    {
      "cell_type": "code",
      "execution_count": null,
      "metadata": {
        "id": "ZwJAKOluCfh3"
      },
      "outputs": [],
      "source": [
        "# Criação da nova coluna\n",
        "\n",
        "df1['cod_cid-10'] = df1['desc_cid-10'].str[:5]"
      ]
    },
    {
      "cell_type": "code",
      "execution_count": null,
      "metadata": {
        "colab": {
          "base_uri": "https://localhost:8080/",
          "height": 214
        },
        "id": "po_5dkibCoQG",
        "outputId": "13b982a7-a2d5-4684-e55c-b477f474847b"
      },
      "outputs": [
        {
          "data": {
            "text/html": [
              "\n",
              "  <div id=\"df-87141ede-94fc-494f-99f2-e97d6358f1ea\">\n",
              "    <div class=\"colab-df-container\">\n",
              "      <div>\n",
              "<style scoped>\n",
              "    .dataframe tbody tr th:only-of-type {\n",
              "        vertical-align: middle;\n",
              "    }\n",
              "\n",
              "    .dataframe tbody tr th {\n",
              "        vertical-align: top;\n",
              "    }\n",
              "\n",
              "    .dataframe thead th {\n",
              "        text-align: right;\n",
              "    }\n",
              "</style>\n",
              "<table border=\"1\" class=\"dataframe\">\n",
              "  <thead>\n",
              "    <tr style=\"text-align: right;\">\n",
              "      <th></th>\n",
              "      <th>id</th>\n",
              "      <th>causa_acidente</th>\n",
              "      <th>data_acidente</th>\n",
              "      <th>oficio</th>\n",
              "      <th>desc_cid-10</th>\n",
              "      <th>num_cnae_empregador</th>\n",
              "      <th>emitente_cat</th>\n",
              "      <th>tipo_beneficio</th>\n",
              "      <th>filiacao_segurado</th>\n",
              "      <th>obito</th>\n",
              "      <th>municipio_empresa</th>\n",
              "      <th>natureza_lesao</th>\n",
              "      <th>parte_corpo_atingida</th>\n",
              "      <th>sexo</th>\n",
              "      <th>tipo_do_acidente</th>\n",
              "      <th>uf_acidente</th>\n",
              "      <th>uf_empregador</th>\n",
              "      <th>data_acidente_1</th>\n",
              "      <th>data_despacho_beneficio</th>\n",
              "      <th>data_acidente_2</th>\n",
              "      <th>nascimento</th>\n",
              "      <th>emissao_cat</th>\n",
              "      <th>cnpj_empregador</th>\n",
              "      <th>cod_cid-10</th>\n",
              "    </tr>\n",
              "  </thead>\n",
              "  <tbody>\n",
              "    <tr>\n",
              "      <th>0</th>\n",
              "      <td>0</td>\n",
              "      <td>Não informado</td>\n",
              "      <td>2022/01</td>\n",
              "      <td>515105-Agente Comunitário de Saúde</td>\n",
              "      <td>B34.2 Infecc p/Coronavirus Ne</td>\n",
              "      <td>8630</td>\n",
              "      <td>Empregador</td>\n",
              "      <td>Pa</td>\n",
              "      <td>Empregado</td>\n",
              "      <td>Não</td>\n",
              "      <td>354780-Santo André-Sp</td>\n",
              "      <td>Doenca Contagiosa ou Infecciosa (Tuberculos</td>\n",
              "      <td>Aparelho Respiratorio</td>\n",
              "      <td>Feminino</td>\n",
              "      <td>Doença</td>\n",
              "      <td>Maranhão</td>\n",
              "      <td>São Paulo</td>\n",
              "      <td>2022/01</td>\n",
              "      <td>0000/00</td>\n",
              "      <td>20/01/2022</td>\n",
              "      <td>02/08/1970</td>\n",
              "      <td>01/03/2022</td>\n",
              "      <td>57.571.275.002.570</td>\n",
              "      <td>B34.2</td>\n",
              "    </tr>\n",
              "  </tbody>\n",
              "</table>\n",
              "</div>\n",
              "      <button class=\"colab-df-convert\" onclick=\"convertToInteractive('df-87141ede-94fc-494f-99f2-e97d6358f1ea')\"\n",
              "              title=\"Convert this dataframe to an interactive table.\"\n",
              "              style=\"display:none;\">\n",
              "        \n",
              "  <svg xmlns=\"http://www.w3.org/2000/svg\" height=\"24px\"viewBox=\"0 0 24 24\"\n",
              "       width=\"24px\">\n",
              "    <path d=\"M0 0h24v24H0V0z\" fill=\"none\"/>\n",
              "    <path d=\"M18.56 5.44l.94 2.06.94-2.06 2.06-.94-2.06-.94-.94-2.06-.94 2.06-2.06.94zm-11 1L8.5 8.5l.94-2.06 2.06-.94-2.06-.94L8.5 2.5l-.94 2.06-2.06.94zm10 10l.94 2.06.94-2.06 2.06-.94-2.06-.94-.94-2.06-.94 2.06-2.06.94z\"/><path d=\"M17.41 7.96l-1.37-1.37c-.4-.4-.92-.59-1.43-.59-.52 0-1.04.2-1.43.59L10.3 9.45l-7.72 7.72c-.78.78-.78 2.05 0 2.83L4 21.41c.39.39.9.59 1.41.59.51 0 1.02-.2 1.41-.59l7.78-7.78 2.81-2.81c.8-.78.8-2.07 0-2.86zM5.41 20L4 18.59l7.72-7.72 1.47 1.35L5.41 20z\"/>\n",
              "  </svg>\n",
              "      </button>\n",
              "      \n",
              "  <style>\n",
              "    .colab-df-container {\n",
              "      display:flex;\n",
              "      flex-wrap:wrap;\n",
              "      gap: 12px;\n",
              "    }\n",
              "\n",
              "    .colab-df-convert {\n",
              "      background-color: #E8F0FE;\n",
              "      border: none;\n",
              "      border-radius: 50%;\n",
              "      cursor: pointer;\n",
              "      display: none;\n",
              "      fill: #1967D2;\n",
              "      height: 32px;\n",
              "      padding: 0 0 0 0;\n",
              "      width: 32px;\n",
              "    }\n",
              "\n",
              "    .colab-df-convert:hover {\n",
              "      background-color: #E2EBFA;\n",
              "      box-shadow: 0px 1px 2px rgba(60, 64, 67, 0.3), 0px 1px 3px 1px rgba(60, 64, 67, 0.15);\n",
              "      fill: #174EA6;\n",
              "    }\n",
              "\n",
              "    [theme=dark] .colab-df-convert {\n",
              "      background-color: #3B4455;\n",
              "      fill: #D2E3FC;\n",
              "    }\n",
              "\n",
              "    [theme=dark] .colab-df-convert:hover {\n",
              "      background-color: #434B5C;\n",
              "      box-shadow: 0px 1px 3px 1px rgba(0, 0, 0, 0.15);\n",
              "      filter: drop-shadow(0px 1px 2px rgba(0, 0, 0, 0.3));\n",
              "      fill: #FFFFFF;\n",
              "    }\n",
              "  </style>\n",
              "\n",
              "      <script>\n",
              "        const buttonEl =\n",
              "          document.querySelector('#df-87141ede-94fc-494f-99f2-e97d6358f1ea button.colab-df-convert');\n",
              "        buttonEl.style.display =\n",
              "          google.colab.kernel.accessAllowed ? 'block' : 'none';\n",
              "\n",
              "        async function convertToInteractive(key) {\n",
              "          const element = document.querySelector('#df-87141ede-94fc-494f-99f2-e97d6358f1ea');\n",
              "          const dataTable =\n",
              "            await google.colab.kernel.invokeFunction('convertToInteractive',\n",
              "                                                     [key], {});\n",
              "          if (!dataTable) return;\n",
              "\n",
              "          const docLinkHtml = 'Like what you see? Visit the ' +\n",
              "            '<a target=\"_blank\" href=https://colab.research.google.com/notebooks/data_table.ipynb>data table notebook</a>'\n",
              "            + ' to learn more about interactive tables.';\n",
              "          element.innerHTML = '';\n",
              "          dataTable['output_type'] = 'display_data';\n",
              "          await google.colab.output.renderOutput(dataTable, element);\n",
              "          const docLink = document.createElement('div');\n",
              "          docLink.innerHTML = docLinkHtml;\n",
              "          element.appendChild(docLink);\n",
              "        }\n",
              "      </script>\n",
              "    </div>\n",
              "  </div>\n",
              "  "
            ],
            "text/plain": [
              "   id                                    causa_acidente data_acidente  \\\n",
              "0   0  Não informado                                          2022/01   \n",
              "\n",
              "                                          oficio  \\\n",
              "0  515105-Agente Comunitário de Saúde              \n",
              "\n",
              "                                     desc_cid-10  num_cnae_empregador  \\\n",
              "0  B34.2 Infecc p/Coronavirus Ne                                 8630   \n",
              "\n",
              "          emitente_cat                                 tipo_beneficio  \\\n",
              "0  Empregador           Pa                                              \n",
              "\n",
              "                               filiacao_segurado obito  \\\n",
              "0  Empregado                                       Não   \n",
              "\n",
              "                           municipio_empresa  \\\n",
              "0  354780-Santo André-Sp                       \n",
              "\n",
              "                                  natureza_lesao  \\\n",
              "0  Doenca Contagiosa ou Infecciosa (Tuberculos     \n",
              "\n",
              "                            parte_corpo_atingida           sexo  \\\n",
              "0  Aparelho Respiratorio                          Feminino        \n",
              "\n",
              "  tipo_do_acidente       uf_acidente        uf_empregador data_acidente_1  \\\n",
              "0         Doença    Maranhão          São Paulo                   2022/01   \n",
              "\n",
              "  data_despacho_beneficio data_acidente_2  nascimento emissao_cat  \\\n",
              "0                 0000/00      20/01/2022  02/08/1970  01/03/2022   \n",
              "\n",
              "      cnpj_empregador cod_cid-10  \n",
              "0  57.571.275.002.570      B34.2  "
            ]
          },
          "execution_count": 101,
          "metadata": {},
          "output_type": "execute_result"
        }
      ],
      "source": [
        "## Verificando a criação da nova coluna\n",
        "\n",
        "df1.head(1)"
      ]
    },
    {
      "cell_type": "code",
      "execution_count": null,
      "metadata": {
        "id": "6hPn9AP1DGZv"
      },
      "outputs": [],
      "source": [
        "# Removendo o código da coluna que contém apenas a descrição\n",
        "\n",
        "df1['desc_cid-10'] = df1['desc_cid-10'].str[5:]"
      ]
    },
    {
      "cell_type": "code",
      "execution_count": null,
      "metadata": {
        "id": "Yby5-bhTDe7-"
      },
      "outputs": [],
      "source": [
        "# Verificação do conteúdo da coluna cod_cid-10\n",
        "\n",
        "df1['cod_cid-10'].value_counts()"
      ]
    },
    {
      "cell_type": "code",
      "execution_count": null,
      "metadata": {
        "id": "cwRo3qEhESNH"
      },
      "outputs": [],
      "source": [
        "# Verificação do conteúdo da coluna desc_cid-10\n",
        "\n",
        "df1['desc_cid-10'].value_counts()"
      ]
    },
    {
      "cell_type": "code",
      "execution_count": null,
      "metadata": {
        "id": "WNWWlqcqFg06"
      },
      "outputs": [],
      "source": [
        "# Verificação do conteúdo da coluna num_cnae_empregador\n",
        "\n",
        "df1['num_cnae_empregador'].value_counts()"
      ]
    },
    {
      "cell_type": "code",
      "execution_count": null,
      "metadata": {
        "id": "WyYIt2jnEyW2"
      },
      "outputs": [],
      "source": [
        "# Transformando a coluna num_cnae_empregador para tipo String\n",
        "\n",
        "df1.num_cnae_empregador = df1.num_cnae_empregador.astype(str)"
      ]
    },
    {
      "cell_type": "code",
      "execution_count": null,
      "metadata": {
        "id": "rl_-CQGUHkqa"
      },
      "outputs": [],
      "source": [
        "# Verificando as alterações\n",
        "\n",
        "df1.dtypes"
      ]
    },
    {
      "cell_type": "code",
      "execution_count": null,
      "metadata": {
        "id": "28-CNeQ6IK_0"
      },
      "outputs": [],
      "source": [
        "# Verificação do conteúdo da coluna tipo_beneficio\n",
        "\n",
        "df1['tipo_beneficio'].value_counts()"
      ]
    },
    {
      "cell_type": "code",
      "execution_count": null,
      "metadata": {
        "id": "RjR-zMeGHzkn"
      },
      "outputs": [],
      "source": [
        "# Renomeando o valor Pa para Processo Administrativo na coluna tipo_beneficio\n",
        "\n",
        "df1['tipo_beneficio'] = df1['tipo_beneficio'].str.replace('Pa', 'Processo Administrativo')"
      ]
    },
    {
      "cell_type": "code",
      "execution_count": null,
      "metadata": {
        "id": "dgh98cBUId1n"
      },
      "outputs": [],
      "source": [
        "# Verificação do conteúdo da coluna filiacao_segurado\n",
        "\n",
        "df1['filiacao_segurado'].value_counts()"
      ]
    },
    {
      "cell_type": "code",
      "execution_count": null,
      "metadata": {
        "id": "KkijayvkIu6-"
      },
      "outputs": [],
      "source": [
        "# Verificação do conteúdo da coluna obito\n",
        "\n",
        "df1['obito'].value_counts()"
      ]
    },
    {
      "cell_type": "code",
      "execution_count": null,
      "metadata": {
        "id": "Yj1m4P7rK51w"
      },
      "outputs": [],
      "source": [
        "# Criação de uma nova coluna contendo apenas o código do municipio\n",
        "\n",
        "df1['cod_municipio'] = df1['municipio_empresa'].str[:6]"
      ]
    },
    {
      "cell_type": "code",
      "execution_count": null,
      "metadata": {
        "id": "TYdQ6EBULIje"
      },
      "outputs": [],
      "source": [
        "# Remoção dos códigos na coluna municipio_empresa\n",
        "\n",
        "df1['municipio_empresa'] = df1['municipio_empresa'].str[7:]"
      ]
    },
    {
      "cell_type": "code",
      "execution_count": null,
      "metadata": {
        "id": "Kw6BkfBcMAdI"
      },
      "outputs": [],
      "source": [
        "# Verificação do dataframe\n",
        "\n",
        "df1.head(2)"
      ]
    },
    {
      "cell_type": "code",
      "execution_count": null,
      "metadata": {
        "id": "z-iwjhmqqDcX"
      },
      "outputs": [],
      "source": [
        "# Trocando todos os valores Não informado para valor nulo\n",
        "df1.replace(\"Não informado\", np.nan, inplace=True)\n",
        "df1.replace(\"Não Informado\", np.nan, inplace=True)\n",
        "df1.replace(\"Não i\", np.nan, inplace=True)"
      ]
    },
    {
      "cell_type": "code",
      "execution_count": null,
      "metadata": {
        "id": "YEZt-zVuqG_X"
      },
      "outputs": [],
      "source": [
        "# Conversão dos tipos das colunas\n",
        "df1['data_acidente_1'] = pd.to_datetime(df1['data_acidente_1'])"
      ]
    },
    {
      "cell_type": "code",
      "execution_count": null,
      "metadata": {
        "id": "BQJgfFZWqKP8"
      },
      "outputs": [],
      "source": [
        "# Formatando as datas da coluna data_acidente_1 \n",
        "df1['data_acidente_1'] = df1['data_acidente_1'].dt.strftime('%m/%Y')"
      ]
    },
    {
      "cell_type": "code",
      "execution_count": null,
      "metadata": {
        "id": "AzxsxCMnQayj"
      },
      "outputs": [],
      "source": [
        "# Conversão do tipo da coluna\n",
        "df1[\"id\"] = df1[\"id\"].apply(np.int64)"
      ]
    },
    {
      "cell_type": "code",
      "execution_count": null,
      "metadata": {
        "id": "KHIfd4qQRYmm"
      },
      "outputs": [],
      "source": [
        "# Criação de um novo index para o dataframe\n",
        "df1.set_index('id',inplace=True)"
      ]
    },
    {
      "cell_type": "markdown",
      "metadata": {},
      "source": [
        "# Aqui utilizaremos Pandera para realizar a validação dos dados."
      ]
    },
    {
      "cell_type": "code",
      "execution_count": null,
      "metadata": {
        "id": "lWbymrZeqWy9"
      },
      "outputs": [],
      "source": [
        "# Schema para validação dos dados\n",
        "\n",
        "schema = pa.DataFrameSchema (\n",
        "    columns = {\n",
        "          'id':pa.Column(pa.Int, nullable=True),\n",
        "          'causa_acidente':pa.Column(pa.String, nullable=True),\n",
        "          'data_acidente':pa.Column(pa.String, nullable=True),\n",
        "          'desc_cid-10':pa.Column(pa.String, nullable=True),\n",
        "          'num_cnae_empregador':pa.Column(pa.String, nullable=True),\n",
        "          'emitente_cat':pa.Column(pa.String, nullable=True),\n",
        "          'tipo_beneficio':pa.Column(pa.String, nullable=True),\n",
        "          'filiacao_segurado':pa.Column(pa.String, nullable=True),\n",
        "          'obito':pa.Column(pa.String, nullable=True),\n",
        "          'municipio_da_empresa':pa.Column(pa.String, nullable=True),\n",
        "          'natureza_lesao':pa.Column(pa.String, nullable=True),\n",
        "          'parte_corpo_atingida':pa.Column(pa.String, nullable=True),\n",
        "          'sexo':pa.Column(pa.String, nullable=True),\n",
        "          'tipo_do_acidente':pa.Column(pa.String, nullable=True),\n",
        "          'uf_acidente':pa.Column(pa.String, nullable=True),\n",
        "          'uf_empregador':pa.Column(pa.String, nullable=True),\n",
        "          'data_acidente_1':pa.Column(pa.String, nullable=True),\n",
        "          'data_despacho_beneficio':pa.Column(pa.String, nullable=True),\n",
        "          'data_acidente_2':pa.Column(pa.String, nullable=True),\n",
        "          'nascimento':pa.Column(pa.String, nullable=True),\n",
        "          'emissao_cat':pa.Column(pa.String, nullable=True),\n",
        "          'cnpj_empregador':pa.Column(pa.String, nullable=True),\n",
        "          'cod_cid-10':pa.Column(pa.String, nullable=True),\n",
        "          'cod_municipio':pa.Column(pa.String, nullable=True)\n",
        "    }\n",
        ")"
      ]
    },
    {
      "cell_type": "code",
      "execution_count": null,
      "metadata": {
        "id": "Q-xcYwa29IKV"
      },
      "outputs": [],
      "source": [
        "# Executando a validação \n",
        "schema.validate(df1)"
      ]
    },
    {
      "cell_type": "markdown",
      "metadata": {},
      "source": [
        "# Aqui começaremos a utilizar PySpark. Para isso, primeiro é necessário criar um schema, contendo o nome e o tipo da coluna."
      ]
    },
    {
      "cell_type": "code",
      "execution_count": null,
      "metadata": {
        "id": "My9K-PqE7mtw"
      },
      "outputs": [],
      "source": [
        "# Criação do Schema para criar uma dataframe com pyspark\n",
        "\n",
        "mySchema = StructType([StructField(\"id\", IntegerType(), True)\\\n",
        "                       ,StructField(\"causa_acidente\", StringType(), True)\\\n",
        "                       ,StructField(\"data_acidente\", StringType(), True)\\\n",
        "                       ,StructField(\"oficio\", StringType(), True)\\\n",
        "                       ,StructField(\"desc_cid-10\", StringType(), True)\\\n",
        "                       ,StructField(\"num_cnae_empregador\", StringType(), True)\\\n",
        "                       ,StructField(\"emitent_cat\", StringType(), True)\\\n",
        "                       ,StructField(\"tipo_beneficio\", StringType(), True)\\\n",
        "                       ,StructField(\"filiacao_segurado\", StringType(), True)\\\n",
        "                       ,StructField(\"obito\", StringType(), True)\\\n",
        "                       ,StructField(\"municipio_da_empresa\", StringType(), True)\\\n",
        "                       ,StructField(\"natureza_lesao\", StringType(), True)\\\n",
        "                       ,StructField(\"parte_corpo_atingida\", StringType(), True)\\\n",
        "                       ,StructField(\"sexo\", StringType(), True)\\\n",
        "                       ,StructField(\"tipo_do_acidente\", StringType(), True)\\\n",
        "                       ,StructField(\"uf_acidente\", StringType(), True)\\\n",
        "                       ,StructField(\"uf_empregador\", StringType(), True)\\\n",
        "                       ,StructField(\"data_acidente_1\", StringType(), True)\\\n",
        "                       ,StructField(\"data_despacho_beneficio\", StringType(), True)\\\n",
        "                       ,StructField(\"data_acidente_2\", StringType(), True)\\\n",
        "                       ,StructField(\"nascimento\", StringType(), True)\\\n",
        "                       ,StructField(\"emissao_cat\", StringType(), True)\\\n",
        "                       ,StructField(\"cnpj_empregador\", StringType(), True)\\\n",
        "                       ,StructField(\"cod_cid-10\", StringType(), True)\\\n",
        "                       ,StructField(\"cod_municipio\", StringType(), True)])"
      ]
    },
    {
      "cell_type": "code",
      "execution_count": null,
      "metadata": {
        "id": "TK2XCGP17wLB"
      },
      "outputs": [],
      "source": [
        "# Criação do dataframe com PySpark\n",
        "sparkDF = spark.createDataFrame(df1, schema=mySchema)\n",
        "sparkDF.printSchema()"
      ]
    },
    {
      "cell_type": "code",
      "execution_count": null,
      "metadata": {
        "id": "EZVwP8lr7wLB"
      },
      "outputs": [],
      "source": [
        "# Realizando transformação na coluna num_cnae_empregador\n",
        "\n",
        "sparkDF = sparkDF.withColumn('num_cnae_empregador', f.regexp_replace('num_cnae_empregador',\"^0(0)?$\", \"Não informado\"))"
      ]
    },
    {
      "cell_type": "code",
      "execution_count": null,
      "metadata": {
        "id": "Bf2SMxbl7wLB"
      },
      "outputs": [],
      "source": [
        "# Visualização da coluna num_cnae_empregador\n",
        "\n",
        "sparkDF.select('num_cnae_empregador').show(800)"
      ]
    },
    {
      "cell_type": "code",
      "execution_count": null,
      "metadata": {
        "id": "JjcQMwrf7wLB"
      },
      "outputs": [],
      "source": [
        "# Visualização dos valores únicos da coluna natureza_lesao\n",
        " \n",
        "sparkDF.select('natureza_lesao').distinct().show(50, truncate=False)"
      ]
    },
    {
      "cell_type": "code",
      "execution_count": null,
      "metadata": {
        "id": "ponzVnL_76le"
      },
      "outputs": [],
      "source": [
        "# Visualização dos valores únicos da coluna parte_corpo_atingida\n",
        "\n",
        "sparkDF.select('parte_corpo_atingida').distinct().show(50, truncate=False)"
      ]
    },
    {
      "cell_type": "code",
      "execution_count": null,
      "metadata": {
        "id": "ysGPayuf76le"
      },
      "outputs": [],
      "source": [
        "# Visualização dos valores únicos da coluna sexo \n",
        "\n",
        "sparkDF.select('sexo').distinct().show(truncate=False)"
      ]
    },
    {
      "cell_type": "code",
      "execution_count": null,
      "metadata": {
        "id": "L0S-lxmU76le"
      },
      "outputs": [],
      "source": [
        "# Visualização dos valores únicos da coluna tipo_do_acidente \n",
        "\n",
        "sparkDF.select('tipo_do_acidente').distinct().show(truncate=False)"
      ]
    },
    {
      "cell_type": "code",
      "execution_count": null,
      "metadata": {
        "id": "9F6ps6vO76le"
      },
      "outputs": [],
      "source": [
        "# Tratamento da coluna tipo_do_acidente\n",
        "\n",
        "sparkDF = sparkDF.withColumn('tipo_do_acidente', f.regexp_replace('tipo_do_acidente', 'Ignorado', 'Não informado'))"
      ]
    },
    {
      "cell_type": "code",
      "execution_count": null,
      "metadata": {
        "id": "PjUAcAK876le"
      },
      "outputs": [],
      "source": [
        "# Verificando se a operação foi bem sucedida\n",
        "\n",
        "sparkDF.select('tipo_do_acidente').distinct().show(truncate=False)"
      ]
    },
    {
      "cell_type": "code",
      "execution_count": null,
      "metadata": {
        "id": "13M1dLGI8Gqs"
      },
      "outputs": [],
      "source": [
        "# Visualização dos valores únicos da coluna uf_acidente\n",
        "\n",
        "sparkDF.select('uf_acidente').distinct().show(50, truncate=False)"
      ]
    },
    {
      "cell_type": "code",
      "execution_count": null,
      "metadata": {
        "id": "B7_ObTcr8Gqs"
      },
      "outputs": [],
      "source": [
        "# Tratamento da coluna uf_acidente\n",
        "\n",
        "sparkDF = sparkDF.withColumn('uf_acidente', f.regexp_replace('uf_acidente', 'Zerado', 'Não informado'))"
      ]
    },
    {
      "cell_type": "code",
      "execution_count": null,
      "metadata": {
        "id": "VvK63AN98Gqs"
      },
      "outputs": [],
      "source": [
        "# Visualização dos valores únicos da coluna uf_empregador\n",
        "\n",
        "sparkDF.select('uf_empregador').distinct().show(20, truncate=False)"
      ]
    },
    {
      "cell_type": "code",
      "execution_count": null,
      "metadata": {
        "id": "Qb6dVqwR8Gqs"
      },
      "outputs": [],
      "source": [
        "# Visualização dos valores únicos da coluna data_acidente_1 \n",
        "\n",
        "sparkDF.select('data_acidente_1').distinct().show(200, truncate=False)"
      ]
    },
    {
      "cell_type": "code",
      "execution_count": null,
      "metadata": {
        "id": "BbBoX0Wn8Gqs"
      },
      "outputs": [],
      "source": [
        "# Visualização dos valores únicos da coluna data_despacho_beneficio\n",
        "\n",
        "sparkDF.select('data_despacho_beneficio').distinct().show(100, truncate=False)"
      ]
    },
    {
      "cell_type": "code",
      "execution_count": null,
      "metadata": {
        "id": "dpEy-QXO8Gqt"
      },
      "outputs": [],
      "source": [
        "# Tratamento da coluna data_despacho_beneficio\n",
        "\n",
        "sparkDF = sparkDF.withColumn('data_despacho_beneficio', f.regexp_replace('data_despacho_beneficio', '0000/00', 'Não informado'))"
      ]
    },
    {
      "cell_type": "code",
      "execution_count": null,
      "metadata": {
        "id": "xYUqksBU8czL"
      },
      "outputs": [],
      "source": [
        "# Visualização dos valores únicos da coluna data_acidente_2 \n",
        "\n",
        "sparkDF.select('data_acidente_2').distinct().show(100, truncate=False)"
      ]
    },
    {
      "cell_type": "code",
      "execution_count": null,
      "metadata": {
        "id": "7EAcDv268czL"
      },
      "outputs": [],
      "source": [
        "# Checando o tipo e valores das colunas nascimento e data_nascimento\n",
        "\n",
        "sparkDF.withColumnRenamed('nascimento', 'data_nascimento').printSchema()"
      ]
    },
    {
      "cell_type": "code",
      "execution_count": null,
      "metadata": {
        "id": "SB55mq3J8czL"
      },
      "outputs": [],
      "source": [
        "# Visualização dos valores únicos da coluna emissao_cat\n",
        "\n",
        "sparkDF.select('emissao_cat').distinct().show(100, truncate=False)"
      ]
    },
    {
      "cell_type": "code",
      "execution_count": null,
      "metadata": {
        "id": "Vo7LCtxM8czM"
      },
      "outputs": [],
      "source": [
        "# Tratamento da coluna emissao_cat\n",
        "\n",
        "sparkDF.withColumn('emissao_cat', f.regexp_replace('emissao_cat', '00/00/0000', 'Não informado'))"
      ]
    },
    {
      "cell_type": "code",
      "execution_count": null,
      "metadata": {
        "id": "YmA5qNdJ8czM"
      },
      "outputs": [],
      "source": [
        "# Visualizando se o tratamento foi bem sucedido\n",
        "\n",
        "sparkDF.select('emissao_cat').distinct().show(100, truncate=False)"
      ]
    },
    {
      "cell_type": "code",
      "execution_count": null,
      "metadata": {
        "id": "ye_Ek3mT8czM"
      },
      "outputs": [],
      "source": [
        "# Tratamento da coluna municipio_empresa\n",
        "\n",
        "sparkDF = sparkDF.withColumn('municipio_empresa', f.regexp_replace('municipio_da_empresa', '-.*$', ''))"
      ]
    },
    {
      "cell_type": "code",
      "execution_count": null,
      "metadata": {
        "id": "YZ8ws0Bu8i4K"
      },
      "outputs": [],
      "source": [
        "  # Reorganizando as colunas\n",
        "first_cols = [\"id\", \"causa_acidente\", \"data_acidente\", \"oficio\", \"cod_cid-10\", \"desc_cid-10\", \"cod_municipio\", \"municipio_da_empresa\"]\n",
        "other_cols = sorted([col for col in sparkDF.columns if col not in first_cols])"
      ]
    },
    {
      "cell_type": "code",
      "execution_count": null,
      "metadata": {
        "id": "m1hV8CzS8i4K"
      },
      "outputs": [],
      "source": [
        "# Reorganizando as colunas\n",
        "sparkDF = sparkDF.select(first_cols + other_cols)"
      ]
    },
    {
      "cell_type": "markdown",
      "metadata": {
        "id": "VPPRO2--hp5i"
      },
      "source": [
        "## Dataframe tratado"
      ]
    },
    {
      "cell_type": "code",
      "execution_count": null,
      "metadata": {
        "id": "i_KghBFNhpIb"
      },
      "outputs": [],
      "source": [
        "# Convertendo o dataframe para um arquivo excel\n",
        "\n",
        "df1.to_excel(\"df1-tratado.xlsx\", encoding='utf-8', index=False)"
      ]
    },
    {
      "cell_type": "markdown",
      "metadata": {
        "id": "HJL8x7xziGps"
      },
      "source": [
        "## Visualização do DataFrame tratado"
      ]
    },
    {
      "cell_type": "code",
      "execution_count": null,
      "metadata": {
        "id": "n38OYfNAiP2E"
      },
      "outputs": [],
      "source": [
        "df1.head()"
      ]
    },
    {
      "cell_type": "code",
      "execution_count": null,
      "metadata": {
        "id": "i-YdcXpjuURB"
      },
      "outputs": [],
      "source": [
        "# Convertendo o dataframes para Pandas novamente\n",
        "\n",
        "df1 = sparkDF.toPandas()"
      ]
    }
  ],
  "metadata": {
    "colab": {
      "provenance": []
    },
    "kernelspec": {
      "display_name": "Python 3",
      "name": "python3"
    },
    "language_info": {
      "name": "python"
    }
  },
  "nbformat": 4,
  "nbformat_minor": 0
}
