{
  "cells": [
    {
      "cell_type": "markdown",
      "metadata": {
        "id": "8Q7ppRhgy3ZW"
      },
      "source": [
        "## Instalação de pacotes\n",
        "\n",
        "\n",
        "\n",
        "\n"
      ]
    },
    {
      "cell_type": "code",
      "execution_count": null,
      "metadata": {
        "colab": {
          "base_uri": "https://localhost:8080/"
        },
        "id": "mL2yVDahyecb",
        "outputId": "7da7cf48-d002-43ee-c47f-4bd2da1df613"
      },
      "outputs": [],
      "source": [
        "!pip install pymongo\n",
        "!pip install pyspark\n",
        "!pip install pandera"
      ]
    },
    {
      "cell_type": "markdown",
      "metadata": {
        "id": "L4ONfr3SzWhl"
      },
      "source": [
        "## Importação de Bibliotecas"
      ]
    },
    {
      "cell_type": "code",
      "execution_count": null,
      "metadata": {
        "id": "QSRFOgF7zVM2"
      },
      "outputs": [],
      "source": [
        "import pandas as pd\n",
        "import numpy as np\n",
        "import pymongo\n",
        "import pyspark.sql.functions as f\n",
        "from pymongo import MongoClient\n",
        "from pyspark.sql import SparkSession\n",
        "from pyspark.sql.types import *\n",
        "import pandera as pa\n",
        "from datetime import datetime"
      ]
    },
    {
      "cell_type": "markdown",
      "metadata": {
        "id": "GDWMxEswzol8"
      },
      "source": [
        "## Extração do dataset"
      ]
    },
    {
      "cell_type": "code",
      "execution_count": null,
      "metadata": {
        "id": "hikCqAjTzoLM"
      },
      "outputs": [],
      "source": [
        "df1 = pd.read_csv('https://storage.googleapis.com/projeto-leonardo-vitor/D.SDA.PDA.005.CAT.202201%20-%20D.SDA.PDA.005.CAT.202201(origi).csv',sep=';')"
      ]
    },
    {
      "cell_type": "markdown",
      "metadata": {
        "id": "oMl1wy1ez_-L"
      },
      "source": [
        "## Configuração do pandas para visualizar todas as linhas e colunas"
      ]
    },
    {
      "cell_type": "code",
      "execution_count": null,
      "metadata": {
        "id": "bjE5dfi9z-9z"
      },
      "outputs": [],
      "source": [
        "pd.set_option('display.max_columns', None)\n",
        "pd.set_option('display.max_rows', None)"
      ]
    },
    {
      "cell_type": "markdown",
      "metadata": {
        "id": "xahuyto90YAM"
      },
      "source": [
        "## Conexão com o mongoDB"
      ]
    },
    {
      "cell_type": "code",
      "execution_count": null,
      "metadata": {
        "id": "nbCj5m3f0XI8"
      },
      "outputs": [],
      "source": [
        "uri = \"mongodb+srv://cluster0.znsuw4p.mongodb.net/?authSource=%24external&authMechanism=MONGODB-X509&retryWrites=true&w=majority\"\n",
        "client = MongoClient(uri,tls=True,tlsCertificateKeyFile='/content/X509-cert-8832947067617257787.pem')"
      ]
    },
    {
      "cell_type": "markdown",
      "metadata": {
        "id": "tQSGR05m1Tge"
      },
      "source": [
        "## Configuração do Spark"
      ]
    },
    {
      "cell_type": "code",
      "execution_count": null,
      "metadata": {
        "id": "7LhU78oj1RHU"
      },
      "outputs": [],
      "source": [
        "spark = (\n",
        "    SparkSession.builder\n",
        "                .master('local')\n",
        "                .appName('etl-soulcode')\n",
        "                .config('spark.ui.port', '4050')\n",
        "                .config('spark.jars', 'https://storage.googleapis.com/hadoop-lib/gcs/gcs-connector-hadoop2-2.1.1.jar')\n",
        "                .getOrCreate()\n",
        ")"
      ]
    },
    {
      "cell_type": "markdown",
      "metadata": {
        "id": "yIh3In7S29Rf"
      },
      "source": [
        "## Visualizando a SparkSession"
      ]
    },
    {
      "cell_type": "code",
      "execution_count": null,
      "metadata": {
        "colab": {
          "base_uri": "https://localhost:8080/",
          "height": 219
        },
        "id": "1c4vdeQP21Se",
        "outputId": "5b5728e3-dbfa-45d2-c976-fa440fc8e0a6"
      },
      "outputs": [
        {
          "data": {
            "text/html": [
              "\n",
              "            <div>\n",
              "                <p><b>SparkSession - in-memory</b></p>\n",
              "                \n",
              "        <div>\n",
              "            <p><b>SparkContext</b></p>\n",
              "\n",
              "            <p><a href=\"http://localhost:4050\">Spark UI</a></p>\n",
              "\n",
              "            <dl>\n",
              "              <dt>Version</dt>\n",
              "                <dd><code>v3.3.1</code></dd>\n",
              "              <dt>Master</dt>\n",
              "                <dd><code>local</code></dd>\n",
              "              <dt>AppName</dt>\n",
              "                <dd><code>etl-soulcode</code></dd>\n",
              "            </dl>\n",
              "        </div>\n",
              "        \n",
              "            </div>\n",
              "        "
            ],
            "text/plain": [
              "<pyspark.sql.session.SparkSession at 0x7f37628c4280>"
            ]
          },
          "execution_count": 104,
          "metadata": {},
          "output_type": "execute_result"
        }
      ],
      "source": [
        "spark"
      ]
    },
    {
      "cell_type": "markdown",
      "metadata": {
        "id": "3503qUX-3T_N"
      },
      "source": [
        "## Criação do banco de dados e das coleções no mongoDB"
      ]
    },
    {
      "cell_type": "code",
      "execution_count": null,
      "metadata": {
        "id": "0NvA8EUY3NvE"
      },
      "outputs": [],
      "source": [
        "db = client['db-soulcode']\n",
        "collection1 = db['dataframe_orig1']\n"
      ]
    },
    {
      "cell_type": "markdown",
      "metadata": {
        "id": "Kq6K4q6D3pjs"
      },
      "source": [
        "## Enviando os datasets pro mongoDB"
      ]
    },
    {
      "cell_type": "code",
      "execution_count": null,
      "metadata": {
        "id": "M9iEWoh03iod"
      },
      "outputs": [],
      "source": [
        "# Subindo primeiro dataset pro mongoDB\n",
        "df1.reset_index(inplace=True)\n",
        "df1_dict = df1.to_dict(\"records\")\n",
        "collection1.insert_many(df1_dict)"
      ]
    },
    {
      "cell_type": "code",
      "execution_count": null,
      "metadata": {
        "colab": {
          "base_uri": "https://localhost:8080/"
        },
        "id": "uqXjpFRd5EMG",
        "outputId": "63cd29b7-d625-4fcf-de32-1e9e0bde5bd8"
      },
      "outputs": [
        {
          "data": {
            "text/plain": [
              "304280"
            ]
          },
          "execution_count": 107,
          "metadata": {},
          "output_type": "execute_result"
        }
      ],
      "source": [
        "# Contagem dos documentos\n",
        "collection1.count_documents({})"
      ]
    },
    {
      "cell_type": "code",
      "execution_count": null,
      "metadata": {
        "colab": {
          "base_uri": "https://localhost:8080/",
          "height": 328
        },
        "id": "GIFM08dk5daU",
        "outputId": "996e33dc-1656-40bf-cd5d-93cd2e7d8f40"
      },
      "outputs": [],
      "source": [
        "# Transformando os documentos em dataframes pandas\n",
        "cursor1 = collection1.find({})\n",
        "df1 = pd.DataFrame(list(cursor1))"
      ]
    },
    {
      "cell_type": "markdown",
      "metadata": {},
      "source": [
        "# Aqui iremos começar alguns tratamentos utilizando apenas o Pandas. Para operações mais especificas, utilizaremos Spark mais abaixo no código."
      ]
    },
    {
      "cell_type": "code",
      "execution_count": null,
      "metadata": {
        "id": "NiHB3zg_6SHd"
      },
      "outputs": [],
      "source": [
        "# Visualização inicial do dataframe\n",
        "df1.head(5)"
      ]
    },
    {
      "cell_type": "code",
      "execution_count": null,
      "metadata": {
        "id": "9FP2ucds6bMD"
      },
      "outputs": [],
      "source": [
        "# Verificando os tipos de dados das colunas\n",
        "df1.dtypes"
      ]
    },
    {
      "cell_type": "code",
      "execution_count": null,
      "metadata": {
        "id": "kVqIs1fF6tNE"
      },
      "outputs": [],
      "source": [
        "# Dropando a coluna contendo a identificação do mongoDB sobre cada objeto\n",
        "df1.drop('_id', axis=1, inplace=True)"
      ]
    },
    {
      "cell_type": "code",
      "execution_count": null,
      "metadata": {
        "colab": {
          "base_uri": "https://localhost:8080/",
          "height": 669
        },
        "id": "tYqu-NhO7KTV",
        "outputId": "fed6db51-8e06-4200-abc4-0e8517dbc77a"
      },
      "outputs": [],
      "source": [
        "## Verificando se a dropagem foi executada\n",
        "\n",
        "df1.head(5)"
      ]
    },
    {
      "cell_type": "code",
      "execution_count": null,
      "metadata": {
        "id": "QRVesRql7uf9"
      },
      "outputs": [],
      "source": [
        "## Analisando o nome das colunas\n",
        "\n",
        "df1.columns"
      ]
    },
    {
      "cell_type": "code",
      "execution_count": null,
      "metadata": {
        "id": "YIGjosNS9i1s"
      },
      "outputs": [],
      "source": [
        "# Backup\n",
        "dfback = df1.copy()"
      ]
    },
    {
      "cell_type": "code",
      "execution_count": null,
      "metadata": {
        "id": "9ehyUysizvUW"
      },
      "outputs": [],
      "source": [
        "df1 = dfback"
      ]
    },
    {
      "cell_type": "code",
      "execution_count": null,
      "metadata": {
        "id": "4Oz63XVx8E_S"
      },
      "outputs": [],
      "source": [
        "# Criando um dicionário para renomear as colunas\n",
        "\n",
        "dict_newcolumns = {'index':'id', 'Agente  Causador  Acidente': 'causa_acidente', 'Data Acidente':'data_acidente', 'CBO':'oficio', 'CID-10':'cid_10',\n",
        "                  'CNAE2.0 Empregador':'num_cnae_empregador', 'CNAE2.0 Empregador.1':'desc_cnae_empregador', 'Emitente CAT':'emitente_cat', \n",
        "                  'Espécie do benefício':'tipo_beneficio','Filiação Segurado':'filiacao_segurado', 'Indica Óbito Acidente':'obito', 'Munic Empr':'municipio_empresa', \n",
        "                  'Natureza da Lesão':'natureza_lesao', 'Origem de Cadastramento CAT':'origem_cad_cat', 'Parte Corpo Atingida':'parte_corpo_atingida', 'Sexo':'sexo', \n",
        "                  'Tipo do Acidente':'tipo_do_acidente','UF  Munic.  Acidente':'uf_acidente', 'UF Munic. Empregador':'uf_empregador', 'Data Acidente.1': 'data_acidente_1', \n",
        "                  'Data Despacho Benefício':'data_despacho_beneficio', 'Data Acidente.2':'data_acidente_2', 'Data Nascimento':'nascimento', 'Data Emissão CAT':'emissao_cat', \n",
        "                  'CNPJ/CEI Empregador,,,,,,,,,,,,':'cnpj_empregador'}"
      ]
    },
    {
      "cell_type": "code",
      "execution_count": null,
      "metadata": {
        "id": "ArZYfkiZ8krN"
      },
      "outputs": [],
      "source": [
        "# Renomeando as colunas\n",
        "\n",
        "df1.rename(columns=dict_newcolumns,inplace=True)"
      ]
    },
    {
      "cell_type": "code",
      "execution_count": null,
      "metadata": {
        "id": "Lkx6kOKN9RsF"
      },
      "outputs": [],
      "source": [
        "# Verificando as alterações \n",
        "df1.head()"
      ]
    },
    {
      "cell_type": "code",
      "execution_count": null,
      "metadata": {
        "id": "psveoIf1ocGa"
      },
      "outputs": [],
      "source": [
        "# Drop de colunas irrelevantes para analises\n",
        "df1.drop(columns=['desc_cnae_empregador', 'origem_cad_cat'], axis=1, inplace=True)"
      ]
    },
    {
      "cell_type": "code",
      "execution_count": null,
      "metadata": {
        "id": "ufMVO0LT9ex1"
      },
      "outputs": [],
      "source": [
        "# Renomeando valores para melhor compreensão \n",
        "\n",
        "df1 = df1.replace('{ñ class} ','Não informado', regex=True)"
      ]
    },
    {
      "cell_type": "code",
      "execution_count": null,
      "metadata": {
        "id": "NHAdSob1-oAF"
      },
      "outputs": [],
      "source": [
        "# Removendo virgulas do dataframe\n",
        "\n",
        "df1 = df1.replace(',', '', regex=True)"
      ]
    },
    {
      "cell_type": "code",
      "execution_count": null,
      "metadata": {
        "id": "LVaIlwws-6oh"
      },
      "outputs": [],
      "source": [
        "## Verificando as alterações \n",
        "\n",
        "df1.head()"
      ]
    },
    {
      "cell_type": "code",
      "execution_count": null,
      "metadata": {
        "id": "rcjC2huv_jSZ"
      },
      "outputs": [],
      "source": [
        "# Contagem dos valores únicos da coluna oficio\n",
        "\n",
        "df1['oficio'].value_counts()"
      ]
    },
    {
      "cell_type": "code",
      "execution_count": null,
      "metadata": {
        "colab": {
          "base_uri": "https://localhost:8080/"
        },
        "id": "Z9P2SbKRALoe",
        "outputId": "e767ac58-270c-4629-da2a-ee0bcd86a790"
      },
      "outputs": [],
      "source": [
        "# Remoção de numeros e caracteres específicos da coluna Oficio\n",
        "\n",
        "df1['oficio'] = df1['oficio'].str.replace(r'\\d+','')\n",
        "df1['oficio'] = df1['oficio'].str.replace('-', '')"
      ]
    },
    {
      "cell_type": "code",
      "execution_count": null,
      "metadata": {
        "id": "tYbbfZ0MAfsl"
      },
      "outputs": [],
      "source": [
        "# Verificação do conteúdo da coluna CNPJ EMPREGADOR\n",
        "\n",
        "df1['cnpj_empregador'].value_counts()"
      ]
    },
    {
      "cell_type": "code",
      "execution_count": null,
      "metadata": {
        "id": "foTuaz0gA7fe"
      },
      "outputs": [],
      "source": [
        "# Substituindo CNPJ nulos para NAN\n",
        "\n",
        "df1['cnpj_empregador'].replace('00.000.000.000.000', np.nan, inplace=True)"
      ]
    },
    {
      "cell_type": "code",
      "execution_count": null,
      "metadata": {
        "id": "VPVPiskVBTGu"
      },
      "outputs": [],
      "source": [
        "# Verificando as alterações\n",
        "\n",
        "df1['cnpj_empregador'].value_counts()"
      ]
    },
    {
      "cell_type": "code",
      "execution_count": null,
      "metadata": {
        "id": "v3jJ9yUiBsat"
      },
      "outputs": [],
      "source": [
        "# Verificação do conteúdo da coluna cid_10\n",
        "\n",
        "df1['cid_10'].value_counts()"
      ]
    },
    {
      "cell_type": "code",
      "execution_count": null,
      "metadata": {
        "id": "ZYZRq7TGCF5-"
      },
      "outputs": [],
      "source": [
        "# Vamos separar a coluna cid_10 em duas colunas.\n",
        "# Para isso, vamos renomear a coluna cid_10 para desc_cid-10 contendo apenas a descrição da doença/problema de saúde.\n",
        "# Então, vamos criar uma nova coluna chamada cod_cid-10 contendo apenas o código da doença/problema de saúde.\n",
        "\n",
        "df1.rename({'cid_10':'desc_cid-10'}, axis=1, inplace=True)"
      ]
    },
    {
      "cell_type": "code",
      "execution_count": null,
      "metadata": {
        "id": "ZwJAKOluCfh3"
      },
      "outputs": [],
      "source": [
        "# Criação da nova coluna\n",
        "\n",
        "df1['cod_cid-10'] = df1['desc_cid-10'].str[:5]"
      ]
    },
    {
      "cell_type": "code",
      "execution_count": null,
      "metadata": {
        "colab": {
          "base_uri": "https://localhost:8080/",
          "height": 214
        },
        "id": "po_5dkibCoQG",
        "outputId": "13b982a7-a2d5-4684-e55c-b477f474847b"
      },
      "outputs": [],
      "source": [
        "## Verificando a criação da nova coluna\n",
        "\n",
        "df1.head(1)"
      ]
    },
    {
      "cell_type": "code",
      "execution_count": null,
      "metadata": {
        "id": "6hPn9AP1DGZv"
      },
      "outputs": [],
      "source": [
        "# Removendo o código da coluna que contém apenas a descrição\n",
        "\n",
        "df1['desc_cid-10'] = df1['desc_cid-10'].str[5:]"
      ]
    },
    {
      "cell_type": "code",
      "execution_count": null,
      "metadata": {
        "id": "Yby5-bhTDe7-"
      },
      "outputs": [],
      "source": [
        "# Verificação do conteúdo da coluna cod_cid-10\n",
        "\n",
        "df1['cod_cid-10'].value_counts()"
      ]
    },
    {
      "cell_type": "code",
      "execution_count": null,
      "metadata": {
        "id": "cwRo3qEhESNH"
      },
      "outputs": [],
      "source": [
        "# Verificação do conteúdo da coluna desc_cid-10\n",
        "\n",
        "df1['desc_cid-10'].value_counts()"
      ]
    },
    {
      "cell_type": "code",
      "execution_count": null,
      "metadata": {
        "id": "WNWWlqcqFg06"
      },
      "outputs": [],
      "source": [
        "# Verificação do conteúdo da coluna num_cnae_empregador\n",
        "\n",
        "df1['num_cnae_empregador'].value_counts()"
      ]
    },
    {
      "cell_type": "code",
      "execution_count": null,
      "metadata": {
        "id": "WyYIt2jnEyW2"
      },
      "outputs": [],
      "source": [
        "# Transformando a coluna num_cnae_empregador para tipo String\n",
        "\n",
        "df1.num_cnae_empregador = df1.num_cnae_empregador.astype(str)"
      ]
    },
    {
      "cell_type": "code",
      "execution_count": null,
      "metadata": {
        "id": "rl_-CQGUHkqa"
      },
      "outputs": [],
      "source": [
        "# Verificando as alterações\n",
        "\n",
        "df1.dtypes"
      ]
    },
    {
      "cell_type": "code",
      "execution_count": null,
      "metadata": {
        "id": "28-CNeQ6IK_0"
      },
      "outputs": [],
      "source": [
        "# Verificação do conteúdo da coluna tipo_beneficio\n",
        "\n",
        "df1['tipo_beneficio'].value_counts()"
      ]
    },
    {
      "cell_type": "code",
      "execution_count": null,
      "metadata": {
        "id": "RjR-zMeGHzkn"
      },
      "outputs": [],
      "source": [
        "# Renomeando o valor Pa para Processo Administrativo na coluna tipo_beneficio\n",
        "\n",
        "df1['tipo_beneficio'] = df1['tipo_beneficio'].str.replace('Pa', 'Processo Administrativo')"
      ]
    },
    {
      "cell_type": "code",
      "execution_count": null,
      "metadata": {
        "id": "dgh98cBUId1n"
      },
      "outputs": [],
      "source": [
        "# Verificação do conteúdo da coluna filiacao_segurado\n",
        "\n",
        "df1['filiacao_segurado'].value_counts()"
      ]
    },
    {
      "cell_type": "code",
      "execution_count": null,
      "metadata": {
        "id": "KkijayvkIu6-"
      },
      "outputs": [],
      "source": [
        "# Verificação do conteúdo da coluna obito\n",
        "\n",
        "df1['obito'].value_counts()"
      ]
    },
    {
      "cell_type": "code",
      "execution_count": null,
      "metadata": {
        "id": "Yj1m4P7rK51w"
      },
      "outputs": [],
      "source": [
        "# Criação de uma nova coluna contendo apenas o código do municipio\n",
        "\n",
        "df1['cod_municipio'] = df1['municipio_empresa'].str[:6]"
      ]
    },
    {
      "cell_type": "code",
      "execution_count": null,
      "metadata": {
        "id": "TYdQ6EBULIje"
      },
      "outputs": [],
      "source": [
        "# Remoção dos códigos na coluna municipio_empresa\n",
        "\n",
        "df1['municipio_empresa'] = df1['municipio_empresa'].str[7:]"
      ]
    },
    {
      "cell_type": "code",
      "execution_count": null,
      "metadata": {
        "id": "Kw6BkfBcMAdI"
      },
      "outputs": [],
      "source": [
        "# Verificação do dataframe\n",
        "\n",
        "df1.head(2)"
      ]
    },
    {
      "cell_type": "code",
      "execution_count": null,
      "metadata": {
        "id": "z-iwjhmqqDcX"
      },
      "outputs": [],
      "source": [
        "# Trocando todos os valores Não informado para valor nulo\n",
        "df1.replace(\"Não informado\", np.nan, inplace=True)\n",
        "df1.replace(\"Não Informado\", np.nan, inplace=True)\n",
        "df1.replace(\"Não i\", np.nan, inplace=True)"
      ]
    },
    {
      "cell_type": "code",
      "execution_count": null,
      "metadata": {
        "id": "YEZt-zVuqG_X"
      },
      "outputs": [],
      "source": [
        "# Conversão dos tipos das colunas\n",
        "df1['data_acidente_1'] = pd.to_datetime(df1['data_acidente_1'])"
      ]
    },
    {
      "cell_type": "code",
      "execution_count": null,
      "metadata": {
        "id": "BQJgfFZWqKP8"
      },
      "outputs": [],
      "source": [
        "# Formatando as datas da coluna data_acidente_1 \n",
        "df1['data_acidente_1'] = df1['data_acidente_1'].dt.strftime('%m/%Y')"
      ]
    },
    {
      "cell_type": "code",
      "execution_count": null,
      "metadata": {
        "id": "AzxsxCMnQayj"
      },
      "outputs": [],
      "source": [
        "# Conversão do tipo da coluna\n",
        "df1[\"id\"] = df1[\"id\"].apply(np.int64)"
      ]
    },
    {
      "cell_type": "code",
      "execution_count": null,
      "metadata": {
        "id": "KHIfd4qQRYmm"
      },
      "outputs": [],
      "source": [
        "# Criação de um novo index para o dataframe\n",
        "df1.set_index('id',inplace=True)"
      ]
    },
    {
      "cell_type": "markdown",
      "metadata": {},
      "source": [
        "# Aqui utilizaremos Pandera para realizar a validação dos dados."
      ]
    },
    {
      "cell_type": "code",
      "execution_count": null,
      "metadata": {
        "id": "lWbymrZeqWy9"
      },
      "outputs": [],
      "source": [
        "# Schema para validação dos dados\n",
        "\n",
        "schema = pa.DataFrameSchema (\n",
        "    columns = {\n",
        "          'id':pa.Column(pa.Int, nullable=True),\n",
        "          'causa_acidente':pa.Column(pa.String, nullable=True),\n",
        "          'data_acidente':pa.Column(pa.String, nullable=True),\n",
        "          'desc_cid-10':pa.Column(pa.String, nullable=True),\n",
        "          'num_cnae_empregador':pa.Column(pa.String, nullable=True),\n",
        "          'emitente_cat':pa.Column(pa.String, nullable=True),\n",
        "          'tipo_beneficio':pa.Column(pa.String, nullable=True),\n",
        "          'filiacao_segurado':pa.Column(pa.String, nullable=True),\n",
        "          'obito':pa.Column(pa.String, nullable=True),\n",
        "          'municipio_da_empresa':pa.Column(pa.String, nullable=True),\n",
        "          'natureza_lesao':pa.Column(pa.String, nullable=True),\n",
        "          'parte_corpo_atingida':pa.Column(pa.String, nullable=True),\n",
        "          'sexo':pa.Column(pa.String, nullable=True),\n",
        "          'tipo_do_acidente':pa.Column(pa.String, nullable=True),\n",
        "          'uf_acidente':pa.Column(pa.String, nullable=True),\n",
        "          'uf_empregador':pa.Column(pa.String, nullable=True),\n",
        "          'data_acidente_1':pa.Column(pa.String, nullable=True),\n",
        "          'data_despacho_beneficio':pa.Column(pa.String, nullable=True),\n",
        "          'data_acidente_2':pa.Column(pa.String, nullable=True),\n",
        "          'nascimento':pa.Column(pa.String, nullable=True),\n",
        "          'emissao_cat':pa.Column(pa.String, nullable=True),\n",
        "          'cnpj_empregador':pa.Column(pa.String, nullable=True),\n",
        "          'cod_cid-10':pa.Column(pa.String, nullable=True),\n",
        "          'cod_municipio':pa.Column(pa.String, nullable=True)\n",
        "    }\n",
        ")"
      ]
    },
    {
      "cell_type": "code",
      "execution_count": null,
      "metadata": {
        "id": "Q-xcYwa29IKV"
      },
      "outputs": [],
      "source": [
        "# Executando a validação \n",
        "schema.validate(df1)"
      ]
    },
    {
      "cell_type": "markdown",
      "metadata": {},
      "source": [
        "# Aqui começaremos a utilizar PySpark. Para isso, primeiro é necessário criar um schema, contendo o nome e o tipo da coluna."
      ]
    },
    {
      "cell_type": "code",
      "execution_count": null,
      "metadata": {
        "id": "My9K-PqE7mtw"
      },
      "outputs": [],
      "source": [
        "# Criação do Schema para criar uma dataframe com pyspark\n",
        "\n",
        "mySchema = StructType([StructField(\"id\", IntegerType(), True)\\\n",
        "                       ,StructField(\"causa_acidente\", StringType(), True)\\\n",
        "                       ,StructField(\"data_acidente\", StringType(), True)\\\n",
        "                       ,StructField(\"oficio\", StringType(), True)\\\n",
        "                       ,StructField(\"desc_cid-10\", StringType(), True)\\\n",
        "                       ,StructField(\"num_cnae_empregador\", StringType(), True)\\\n",
        "                       ,StructField(\"emitent_cat\", StringType(), True)\\\n",
        "                       ,StructField(\"tipo_beneficio\", StringType(), True)\\\n",
        "                       ,StructField(\"filiacao_segurado\", StringType(), True)\\\n",
        "                       ,StructField(\"obito\", StringType(), True)\\\n",
        "                       ,StructField(\"municipio_da_empresa\", StringType(), True)\\\n",
        "                       ,StructField(\"natureza_lesao\", StringType(), True)\\\n",
        "                       ,StructField(\"parte_corpo_atingida\", StringType(), True)\\\n",
        "                       ,StructField(\"sexo\", StringType(), True)\\\n",
        "                       ,StructField(\"tipo_do_acidente\", StringType(), True)\\\n",
        "                       ,StructField(\"uf_acidente\", StringType(), True)\\\n",
        "                       ,StructField(\"uf_empregador\", StringType(), True)\\\n",
        "                       ,StructField(\"data_acidente_1\", StringType(), True)\\\n",
        "                       ,StructField(\"data_despacho_beneficio\", StringType(), True)\\\n",
        "                       ,StructField(\"data_acidente_2\", StringType(), True)\\\n",
        "                       ,StructField(\"nascimento\", StringType(), True)\\\n",
        "                       ,StructField(\"emissao_cat\", StringType(), True)\\\n",
        "                       ,StructField(\"cnpj_empregador\", StringType(), True)\\\n",
        "                       ,StructField(\"cod_cid-10\", StringType(), True)\\\n",
        "                       ,StructField(\"cod_municipio\", StringType(), True)])"
      ]
    },
    {
      "cell_type": "code",
      "execution_count": null,
      "metadata": {
        "id": "TK2XCGP17wLB"
      },
      "outputs": [],
      "source": [
        "# Criação do dataframe com PySpark\n",
        "sparkDF = spark.createDataFrame(df1, schema=mySchema)\n",
        "sparkDF.printSchema()"
      ]
    },
    {
      "cell_type": "code",
      "execution_count": null,
      "metadata": {
        "id": "EZVwP8lr7wLB"
      },
      "outputs": [],
      "source": [
        "# Realizando transformação na coluna num_cnae_empregador\n",
        "\n",
        "sparkDF = sparkDF.withColumn('num_cnae_empregador', f.regexp_replace('num_cnae_empregador',\"^0(0)?$\", \"Não informado\"))"
      ]
    },
    {
      "cell_type": "code",
      "execution_count": null,
      "metadata": {
        "id": "Bf2SMxbl7wLB"
      },
      "outputs": [],
      "source": [
        "# Visualização da coluna num_cnae_empregador\n",
        "\n",
        "sparkDF.select('num_cnae_empregador').show(800)"
      ]
    },
    {
      "cell_type": "code",
      "execution_count": null,
      "metadata": {
        "id": "JjcQMwrf7wLB"
      },
      "outputs": [],
      "source": [
        "# Visualização dos valores únicos da coluna natureza_lesao\n",
        " \n",
        "sparkDF.select('natureza_lesao').distinct().show(50, truncate=False)"
      ]
    },
    {
      "cell_type": "code",
      "execution_count": null,
      "metadata": {
        "id": "ponzVnL_76le"
      },
      "outputs": [],
      "source": [
        "# Visualização dos valores únicos da coluna parte_corpo_atingida\n",
        "\n",
        "sparkDF.select('parte_corpo_atingida').distinct().show(50, truncate=False)"
      ]
    },
    {
      "cell_type": "code",
      "execution_count": null,
      "metadata": {
        "id": "ysGPayuf76le"
      },
      "outputs": [],
      "source": [
        "# Visualização dos valores únicos da coluna sexo \n",
        "\n",
        "sparkDF.select('sexo').distinct().show(truncate=False)"
      ]
    },
    {
      "cell_type": "code",
      "execution_count": null,
      "metadata": {
        "id": "L0S-lxmU76le"
      },
      "outputs": [],
      "source": [
        "# Visualização dos valores únicos da coluna tipo_do_acidente \n",
        "\n",
        "sparkDF.select('tipo_do_acidente').distinct().show(truncate=False)"
      ]
    },
    {
      "cell_type": "code",
      "execution_count": null,
      "metadata": {
        "id": "9F6ps6vO76le"
      },
      "outputs": [],
      "source": [
        "# Tratamento da coluna tipo_do_acidente\n",
        "\n",
        "sparkDF = sparkDF.withColumn('tipo_do_acidente', f.regexp_replace('tipo_do_acidente', 'Ignorado', 'Não informado'))"
      ]
    },
    {
      "cell_type": "code",
      "execution_count": null,
      "metadata": {
        "id": "PjUAcAK876le"
      },
      "outputs": [],
      "source": [
        "# Verificando se a operação foi bem sucedida\n",
        "\n",
        "sparkDF.select('tipo_do_acidente').distinct().show(truncate=False)"
      ]
    },
    {
      "cell_type": "code",
      "execution_count": null,
      "metadata": {
        "id": "13M1dLGI8Gqs"
      },
      "outputs": [],
      "source": [
        "# Visualização dos valores únicos da coluna uf_acidente\n",
        "\n",
        "sparkDF.select('uf_acidente').distinct().show(50, truncate=False)"
      ]
    },
    {
      "cell_type": "code",
      "execution_count": null,
      "metadata": {
        "id": "B7_ObTcr8Gqs"
      },
      "outputs": [],
      "source": [
        "# Tratamento da coluna uf_acidente\n",
        "\n",
        "sparkDF = sparkDF.withColumn('uf_acidente', f.regexp_replace('uf_acidente', 'Zerado', 'Não informado'))"
      ]
    },
    {
      "cell_type": "code",
      "execution_count": null,
      "metadata": {
        "id": "VvK63AN98Gqs"
      },
      "outputs": [],
      "source": [
        "# Visualização dos valores únicos da coluna uf_empregador\n",
        "\n",
        "sparkDF.select('uf_empregador').distinct().show(20, truncate=False)"
      ]
    },
    {
      "cell_type": "code",
      "execution_count": null,
      "metadata": {
        "id": "Qb6dVqwR8Gqs"
      },
      "outputs": [],
      "source": [
        "# Visualização dos valores únicos da coluna data_acidente_1 \n",
        "\n",
        "sparkDF.select('data_acidente_1').distinct().show(200, truncate=False)"
      ]
    },
    {
      "cell_type": "code",
      "execution_count": null,
      "metadata": {
        "id": "BbBoX0Wn8Gqs"
      },
      "outputs": [],
      "source": [
        "# Visualização dos valores únicos da coluna data_despacho_beneficio\n",
        "\n",
        "sparkDF.select('data_despacho_beneficio').distinct().show(100, truncate=False)"
      ]
    },
    {
      "cell_type": "code",
      "execution_count": null,
      "metadata": {
        "id": "dpEy-QXO8Gqt"
      },
      "outputs": [],
      "source": [
        "# Tratamento da coluna data_despacho_beneficio\n",
        "\n",
        "sparkDF = sparkDF.withColumn('data_despacho_beneficio', f.regexp_replace('data_despacho_beneficio', '0000/00', 'Não informado'))"
      ]
    },
    {
      "cell_type": "code",
      "execution_count": null,
      "metadata": {
        "id": "xYUqksBU8czL"
      },
      "outputs": [],
      "source": [
        "# Visualização dos valores únicos da coluna data_acidente_2 \n",
        "\n",
        "sparkDF.select('data_acidente_2').distinct().show(100, truncate=False)"
      ]
    },
    {
      "cell_type": "code",
      "execution_count": null,
      "metadata": {
        "id": "7EAcDv268czL"
      },
      "outputs": [],
      "source": [
        "# Checando o tipo e valores das colunas nascimento e data_nascimento\n",
        "\n",
        "sparkDF.withColumnRenamed('nascimento', 'data_nascimento').printSchema()"
      ]
    },
    {
      "cell_type": "code",
      "execution_count": null,
      "metadata": {
        "id": "SB55mq3J8czL"
      },
      "outputs": [],
      "source": [
        "# Visualização dos valores únicos da coluna emissao_cat\n",
        "\n",
        "sparkDF.select('emissao_cat').distinct().show(100, truncate=False)"
      ]
    },
    {
      "cell_type": "code",
      "execution_count": null,
      "metadata": {
        "id": "Vo7LCtxM8czM"
      },
      "outputs": [],
      "source": [
        "# Tratamento da coluna emissao_cat\n",
        "\n",
        "sparkDF.withColumn('emissao_cat', f.regexp_replace('emissao_cat', '00/00/0000', 'Não informado'))"
      ]
    },
    {
      "cell_type": "code",
      "execution_count": null,
      "metadata": {
        "id": "YmA5qNdJ8czM"
      },
      "outputs": [],
      "source": [
        "# Visualizando se o tratamento foi bem sucedido\n",
        "\n",
        "sparkDF.select('emissao_cat').distinct().show(100, truncate=False)"
      ]
    },
    {
      "cell_type": "code",
      "execution_count": null,
      "metadata": {
        "id": "ye_Ek3mT8czM"
      },
      "outputs": [],
      "source": [
        "# Tratamento da coluna municipio_empresa\n",
        "\n",
        "sparkDF = sparkDF.withColumn('municipio_empresa', f.regexp_replace('municipio_da_empresa', '-.*$', ''))"
      ]
    },
    {
      "cell_type": "code",
      "execution_count": null,
      "metadata": {
        "id": "YZ8ws0Bu8i4K"
      },
      "outputs": [],
      "source": [
        "  # Reorganizando as colunas\n",
        "first_cols = [\"id\", \"causa_acidente\", \"data_acidente\", \"oficio\", \"cod_cid-10\", \"desc_cid-10\", \"cod_municipio\", \"municipio_da_empresa\"]\n",
        "other_cols = sorted([col for col in sparkDF.columns if col not in first_cols])"
      ]
    },
    {
      "cell_type": "code",
      "execution_count": null,
      "metadata": {
        "id": "m1hV8CzS8i4K"
      },
      "outputs": [],
      "source": [
        "# Reorganizando as colunas\n",
        "sparkDF = sparkDF.select(first_cols + other_cols)"
      ]
    },
    {
      "cell_type": "markdown",
      "metadata": {
        "id": "VPPRO2--hp5i"
      },
      "source": [
        "## Dataframe tratado"
      ]
    },
    {
      "cell_type": "code",
      "execution_count": null,
      "metadata": {
        "id": "i_KghBFNhpIb"
      },
      "outputs": [],
      "source": [
        "# Convertendo o dataframe para um arquivo excel\n",
        "\n",
        "df1.to_excel(\"df1-tratado.xlsx\", encoding='utf-8', index=False)"
      ]
    },
    {
      "cell_type": "markdown",
      "metadata": {
        "id": "HJL8x7xziGps"
      },
      "source": [
        "## Visualização do DataFrame tratado"
      ]
    },
    {
      "cell_type": "code",
      "execution_count": null,
      "metadata": {
        "id": "n38OYfNAiP2E"
      },
      "outputs": [],
      "source": [
        "df1.head()"
      ]
    },
    {
      "cell_type": "code",
      "execution_count": null,
      "metadata": {
        "id": "i-YdcXpjuURB"
      },
      "outputs": [],
      "source": [
        "# Convertendo o dataframes para Pandas novamente\n",
        "\n",
        "df1 = sparkDF.toPandas()"
      ]
    }
  ],
  "metadata": {
    "colab": {
      "provenance": []
    },
    "kernelspec": {
      "display_name": "Python 3",
      "name": "python3"
    },
    "language_info": {
      "name": "python"
    }
  },
  "nbformat": 4,
  "nbformat_minor": 0
}
